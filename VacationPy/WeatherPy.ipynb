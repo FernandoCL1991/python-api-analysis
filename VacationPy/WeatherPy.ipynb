{
 "cells": [
  {
   "cell_type": "markdown",
   "metadata": {},
   "source": [
    "# WeatherPy\n",
    "----\n",
    "\n",
    "#### Note\n",
    "* Instructions have been included for each segment. You do not have to follow them exactly, but they are included to help you think through the steps."
   ]
  },
  {
   "cell_type": "markdown",
   "metadata": {},
   "source": [
    "## BASE"
   ]
  },
  {
   "cell_type": "code",
   "execution_count": 1,
   "metadata": {
    "scrolled": true
   },
   "outputs": [],
   "source": [
    "# Dependencies and Setup\n",
    "import matplotlib.pyplot as plt\n",
    "import pandas as pd\n",
    "import numpy as np\n",
    "import requests\n",
    "import time\n",
    "from scipy.stats import linregress\n",
    "\n",
    "# Import API key\n",
    "from api_keys import weather_api_key\n",
    "\n",
    "# Incorporated citipy to determine city based on latitude and longitude\n",
    "from citipy import citipy\n",
    "\n",
    "# Output File (CSV)\n",
    "output_data_file = \"output_data/cities.csv\"\n",
    "\n",
    "# Range of latitudes and longitudes\n",
    "lat_range = (-90, 90)\n",
    "lng_range = (-180, 180)"
   ]
  },
  {
   "cell_type": "code",
   "execution_count": 2,
   "metadata": {},
   "outputs": [
    {
     "data": {
      "text/plain": [
       "607"
      ]
     },
     "execution_count": 2,
     "metadata": {},
     "output_type": "execute_result"
    }
   ],
   "source": [
    "# List for holding lat_lngs and cities\n",
    "lat_lngs = []\n",
    "cities = []\n",
    "\n",
    "# Create a set of random lat and lng combinations\n",
    "lats = np.random.uniform(lat_range[0], lat_range[1], size=1500)\n",
    "lngs = np.random.uniform(lng_range[0], lng_range[1], size=1500)\n",
    "lat_lngs = zip(lats, lngs)\n",
    "\n",
    "# Identify nearest city for each lat, lng combination\n",
    "for lat_lng in lat_lngs:\n",
    "    city = citipy.nearest_city(lat_lng[0], lat_lng[1]).city_name\n",
    "    \n",
    "    # If the city is unique, then add it to a our cities list\n",
    "    if city not in cities:\n",
    "        cities.append(city)\n",
    "\n",
    "# Print the city count to confirm sufficient count\n",
    "len(cities)"
   ]
  },
  {
   "cell_type": "markdown",
   "metadata": {},
   "source": [
    "### Perform API Calls\n",
    "* Perform a weather check on each city using a series of successive API calls.\n",
    "* Include a print log of each city as it'sbeing processed (with the city number and city name).\n"
   ]
  },
  {
   "cell_type": "code",
   "execution_count": 3,
   "metadata": {},
   "outputs": [
    {
     "name": "stdout",
     "output_type": "stream",
     "text": [
      "Beginning Data Retrieval     \n",
      "-----------------------------\n",
      "Processing Record 1 of Set 1 | turukhansk\n",
      "Processing Record 2 of Set 1 | kodiak\n",
      "Processing Record 3 of Set 1 | yar-sale\n",
      "Processing Record 4 of Set 1 | ginda\n",
      "Processing Record 5 of Set 1 | mount isa\n",
      "Processing Record 6 of Set 1 | busselton\n",
      "Processing Record 7 of Set 1 | mount gambier\n",
      "Processing Record 8 of Set 1 | maloy\n",
      "Processing Record 9 of Set 1 | krasnoselkup\n",
      "Processing Record 10 of Set 1 | mataura\n",
      "Processing Record 11 of Set 1 | chase\n",
      "Processing Record 12 of Set 1 | cape town\n",
      "Processing Record 13 of Set 1 | port alfred\n",
      "Processing Record 14 of Set 1 | ushuaia\n",
      "Processing Record 15 of Set 1 | jamestown\n",
      "Processing Record 16 of Set 1 | punta arenas\n",
      "Processing Record 17 of Set 1 | santiago\n",
      "Processing Record 18 of Set 1 | hambantota\n",
      "Processing Record 19 of Set 1 | atbasar\n",
      "Processing Record 20 of Set 1 | taltal\n",
      "Processing Record 21 of Set 1 | broome\n",
      "Processing Record 22 of Set 1 | kavieng\n",
      "Processing Record 23 of Set 1 | jackson\n",
      "Processing Record 24 of Set 1 | beringovskiy\n",
      "Processing Record 25 of Set 1 | manado\n",
      "Processing Record 26 of Set 1 | nikolskoye\n",
      "Processing Record 27 of Set 1 | puerto ayora\n",
      "Processing Record 28 of Set 1 | dikson\n",
      "Processing Record 29 of Set 1 | hasaki\n",
      "Processing Record 30 of Set 1 | bredasdorp\n",
      "Processing Record 31 of Set 1 | ashqelon\n",
      "Processing Record 32 of Set 1 | san patricio\n",
      "Processing Record 33 of Set 1 | bluff\n",
      "Processing Record 34 of Set 1 | lebu\n",
      "Processing Record 35 of Set 1 | atuona\n",
      "Processing Record 36 of Set 1 | bengkulu\n",
      "Processing Record 37 of Set 1 | vaini\n",
      "Processing Record 38 of Set 1 | rikitea\n",
      "Processing Record 39 of Set 1 | nizhneyansk\n",
      "City not found. Skipping...\n",
      "Processing Record 40 of Set 1 | castro\n",
      "Processing Record 41 of Set 1 | tsihombe\n",
      "City not found. Skipping...\n",
      "Processing Record 42 of Set 1 | louis trichardt\n",
      "Processing Record 43 of Set 1 | belushya guba\n",
      "City not found. Skipping...\n",
      "Processing Record 44 of Set 1 | mnogovershinnyy\n",
      "Processing Record 45 of Set 1 | hami\n",
      "Processing Record 46 of Set 1 | siguiri\n",
      "Processing Record 47 of Set 1 | loandjili\n",
      "Processing Record 48 of Set 1 | cidreira\n",
      "Processing Record 49 of Set 1 | eureka\n",
      "Processing Record 50 of Set 1 | brae\n",
      "Processing Record 0 of Set 2 | prince george\n",
      "Processing Record 1 of Set 2 | north bend\n",
      "Processing Record 2 of Set 2 | magistralnyy\n",
      "Processing Record 3 of Set 2 | mareeba\n",
      "Processing Record 4 of Set 2 | chokurdakh\n",
      "Processing Record 5 of Set 2 | tuatapere\n",
      "Processing Record 6 of Set 2 | taolanaro\n",
      "City not found. Skipping...\n",
      "Processing Record 7 of Set 2 | hobart\n",
      "Processing Record 8 of Set 2 | himora\n",
      "City not found. Skipping...\n",
      "Processing Record 9 of Set 2 | nelson bay\n",
      "Processing Record 10 of Set 2 | broadstairs\n",
      "Processing Record 11 of Set 2 | hilo\n",
      "Processing Record 12 of Set 2 | te anau\n",
      "Processing Record 13 of Set 2 | gore\n",
      "Processing Record 14 of Set 2 | ler\n",
      "Processing Record 15 of Set 2 | mtwara\n",
      "Processing Record 16 of Set 2 | flin flon\n",
      "Processing Record 17 of Set 2 | xuddur\n",
      "Processing Record 18 of Set 2 | kapaa\n",
      "Processing Record 19 of Set 2 | urumqi\n",
      "Processing Record 20 of Set 2 | hamilton\n",
      "Processing Record 21 of Set 2 | saint-philippe\n",
      "Processing Record 22 of Set 2 | cherskiy\n",
      "Processing Record 23 of Set 2 | hermanus\n",
      "Processing Record 24 of Set 2 | avarua\n",
      "Processing Record 25 of Set 2 | hithadhoo\n",
      "Processing Record 26 of Set 2 | touros\n",
      "Processing Record 27 of Set 2 | mahebourg\n",
      "Processing Record 28 of Set 2 | samalaeulu\n",
      "City not found. Skipping...\n",
      "Processing Record 29 of Set 2 | barkot\n",
      "Processing Record 30 of Set 2 | kununurra\n",
      "Processing Record 31 of Set 2 | sitka\n",
      "Processing Record 32 of Set 2 | madison heights\n",
      "Processing Record 33 of Set 2 | kichera\n",
      "Processing Record 34 of Set 2 | nabire\n",
      "Processing Record 35 of Set 2 | el colorado\n",
      "Processing Record 36 of Set 2 | pousat\n",
      "City not found. Skipping...\n",
      "Processing Record 37 of Set 2 | arlit\n",
      "Processing Record 38 of Set 2 | cockburn town\n",
      "Processing Record 39 of Set 2 | catuday\n",
      "Processing Record 40 of Set 2 | nemuro\n",
      "Processing Record 41 of Set 2 | lompoc\n",
      "Processing Record 42 of Set 2 | acuna\n",
      "City not found. Skipping...\n",
      "Processing Record 43 of Set 2 | mar del plata\n",
      "Processing Record 44 of Set 2 | khorixas\n",
      "Processing Record 45 of Set 2 | tochigi\n",
      "Processing Record 46 of Set 2 | tuktoyaktuk\n",
      "Processing Record 47 of Set 2 | berlevag\n",
      "Processing Record 48 of Set 2 | bathsheba\n",
      "Processing Record 49 of Set 2 | margate\n",
      "Processing Record 0 of Set 3 | pevek\n",
      "Processing Record 1 of Set 3 | roald\n",
      "Processing Record 2 of Set 3 | nago\n",
      "Processing Record 3 of Set 3 | albany\n",
      "Processing Record 4 of Set 3 | port elizabeth\n",
      "Processing Record 5 of Set 3 | makakilo city\n",
      "Processing Record 6 of Set 3 | barao de melgaco\n",
      "Processing Record 7 of Set 3 | ulaangom\n",
      "Processing Record 8 of Set 3 | sao filipe\n",
      "Processing Record 9 of Set 3 | tahta\n",
      "Processing Record 10 of Set 3 | maryville\n",
      "Processing Record 11 of Set 3 | cap malheureux\n",
      "Processing Record 12 of Set 3 | katsuura\n",
      "Processing Record 13 of Set 3 | khatanga\n",
      "Processing Record 14 of Set 3 | new norfolk\n",
      "Processing Record 15 of Set 3 | saskylakh\n",
      "Processing Record 16 of Set 3 | saint george\n",
      "Processing Record 17 of Set 3 | clyde river\n",
      "Processing Record 18 of Set 3 | vao\n",
      "Processing Record 19 of Set 3 | aklavik\n",
      "Processing Record 20 of Set 3 | khandbari\n",
      "Processing Record 21 of Set 3 | stepnogorsk\n",
      "Processing Record 22 of Set 3 | kamaishi\n",
      "Processing Record 23 of Set 3 | mys shmidta\n",
      "City not found. Skipping...\n",
      "Processing Record 24 of Set 3 | camacupa\n",
      "Processing Record 25 of Set 3 | tumpat\n",
      "Processing Record 26 of Set 3 | luderitz\n",
      "Processing Record 27 of Set 3 | longyearbyen\n",
      "Processing Record 28 of Set 3 | avallon\n",
      "Processing Record 29 of Set 3 | kaitangata\n",
      "Processing Record 30 of Set 3 | souillac\n",
      "Processing Record 31 of Set 3 | acapulco\n",
      "Processing Record 32 of Set 3 | miandoab\n",
      "Processing Record 33 of Set 3 | puerto penasco\n",
      "Processing Record 34 of Set 3 | allapalli\n",
      "Processing Record 35 of Set 3 | yellowknife\n",
      "Processing Record 36 of Set 3 | nyazepetrovsk\n",
      "Processing Record 37 of Set 3 | severo-kurilsk\n",
      "Processing Record 38 of Set 3 | tasiilaq\n",
      "Processing Record 39 of Set 3 | sarkand\n",
      "Processing Record 40 of Set 3 | geraldton\n",
      "Processing Record 41 of Set 3 | luchenza\n",
      "Processing Record 42 of Set 3 | opuwo\n",
      "Processing Record 43 of Set 3 | sola\n",
      "Processing Record 44 of Set 3 | butaritari\n",
      "Processing Record 45 of Set 3 | saint-augustin\n",
      "Processing Record 46 of Set 3 | barrow\n",
      "Processing Record 47 of Set 3 | bitung\n",
      "Processing Record 48 of Set 3 | vaitupu\n",
      "City not found. Skipping...\n",
      "Processing Record 49 of Set 3 | cabo san lucas\n",
      "Processing Record 0 of Set 4 | east london\n",
      "Processing Record 1 of Set 4 | dingle\n",
      "Processing Record 2 of Set 4 | padang\n",
      "Processing Record 3 of Set 4 | fayaoue\n",
      "Processing Record 4 of Set 4 | bemidji\n",
      "Processing Record 5 of Set 4 | oriximina\n",
      "Processing Record 6 of Set 4 | ponta do sol\n",
      "Processing Record 7 of Set 4 | halalo\n",
      "City not found. Skipping...\n",
      "Processing Record 8 of Set 4 | torbay\n",
      "Processing Record 9 of Set 4 | erenhot\n",
      "Processing Record 10 of Set 4 | ribeira grande\n",
      "Processing Record 11 of Set 4 | ponta delgada\n",
      "Processing Record 12 of Set 4 | vilyuysk\n",
      "Processing Record 13 of Set 4 | kulhudhuffushi\n",
      "Processing Record 14 of Set 4 | menongue\n",
      "Processing Record 15 of Set 4 | samusu\n",
      "City not found. Skipping...\n",
      "Processing Record 16 of Set 4 | vostok\n",
      "Processing Record 17 of Set 4 | ilulissat\n",
      "Processing Record 18 of Set 4 | victoria\n",
      "Processing Record 19 of Set 4 | airai\n",
      "Processing Record 20 of Set 4 | jiroft\n",
      "City not found. Skipping...\n",
      "Processing Record 21 of Set 4 | tilbury\n",
      "Processing Record 22 of Set 4 | lukulu\n",
      "Processing Record 23 of Set 4 | provideniya\n",
      "Processing Record 24 of Set 4 | kenai\n",
      "Processing Record 25 of Set 4 | belmonte\n",
      "Processing Record 26 of Set 4 | cedartown\n",
      "Processing Record 27 of Set 4 | ust-kamchatsk\n",
      "City not found. Skipping...\n",
      "Processing Record 28 of Set 4 | yangambi\n",
      "Processing Record 29 of Set 4 | malinyi\n",
      "Processing Record 30 of Set 4 | kinablangan\n",
      "Processing Record 31 of Set 4 | bellary\n",
      "Processing Record 32 of Set 4 | tucuma\n",
      "Processing Record 33 of Set 4 | saldanha\n",
      "Processing Record 34 of Set 4 | ancud\n",
      "Processing Record 35 of Set 4 | kruisfontein\n",
      "Processing Record 36 of Set 4 | daru\n",
      "Processing Record 37 of Set 4 | georgetown\n",
      "Processing Record 38 of Set 4 | phu khieo\n"
     ]
    },
    {
     "name": "stdout",
     "output_type": "stream",
     "text": [
      "City not found. Skipping...\n",
      "Processing Record 39 of Set 4 | isabela\n",
      "Processing Record 40 of Set 4 | ostrovnoy\n",
      "Processing Record 41 of Set 4 | buala\n",
      "Processing Record 42 of Set 4 | amderma\n",
      "City not found. Skipping...\n",
      "Processing Record 43 of Set 4 | port lincoln\n",
      "Processing Record 44 of Set 4 | itaituba\n",
      "Processing Record 45 of Set 4 | tidore\n",
      "City not found. Skipping...\n",
      "Processing Record 46 of Set 4 | poum\n",
      "Processing Record 47 of Set 4 | zolotinka\n",
      "City not found. Skipping...\n",
      "Processing Record 48 of Set 4 | shishou\n",
      "Processing Record 49 of Set 4 | farsund\n",
      "Processing Record 0 of Set 5 | baza\n",
      "Processing Record 1 of Set 5 | kita\n",
      "Processing Record 2 of Set 5 | guiglo\n",
      "Processing Record 3 of Set 5 | galle\n",
      "Processing Record 4 of Set 5 | bethel\n",
      "Processing Record 5 of Set 5 | leningradskiy\n",
      "Processing Record 6 of Set 5 | yulara\n",
      "Processing Record 7 of Set 5 | codrington\n",
      "Processing Record 8 of Set 5 | rumonge\n",
      "Processing Record 9 of Set 5 | kaya\n",
      "Processing Record 10 of Set 5 | krasnyy chikoy\n",
      "Processing Record 11 of Set 5 | altoona\n",
      "Processing Record 12 of Set 5 | vallenar\n",
      "Processing Record 13 of Set 5 | akyab\n",
      "Processing Record 14 of Set 5 | abakaliki\n",
      "Processing Record 15 of Set 5 | namatanai\n",
      "Processing Record 16 of Set 5 | jaguarao\n",
      "Processing Record 17 of Set 5 | dhangadhi\n",
      "Processing Record 18 of Set 5 | alyangula\n",
      "Processing Record 19 of Set 5 | spirit river\n",
      "Processing Record 20 of Set 5 | meulaboh\n",
      "Processing Record 21 of Set 5 | elko\n",
      "Processing Record 22 of Set 5 | pisco\n",
      "Processing Record 23 of Set 5 | vreed en hoop\n",
      "City not found. Skipping...\n",
      "Processing Record 24 of Set 5 | bonfim\n",
      "Processing Record 25 of Set 5 | nanortalik\n",
      "Processing Record 26 of Set 5 | krasnovishersk\n",
      "Processing Record 27 of Set 5 | fairbanks\n",
      "Processing Record 28 of Set 5 | isangel\n",
      "Processing Record 29 of Set 5 | jiangmen\n",
      "Processing Record 30 of Set 5 | gat\n",
      "Processing Record 31 of Set 5 | maltahohe\n",
      "Processing Record 32 of Set 5 | buraydah\n",
      "Processing Record 33 of Set 5 | kazalinsk\n",
      "City not found. Skipping...\n",
      "Processing Record 34 of Set 5 | san cristobal\n",
      "Processing Record 35 of Set 5 | chabahar\n",
      "Processing Record 36 of Set 5 | wattegama\n",
      "Processing Record 37 of Set 5 | haines junction\n",
      "Processing Record 38 of Set 5 | santa vitoria do palmar\n",
      "Processing Record 39 of Set 5 | sangar\n",
      "Processing Record 40 of Set 5 | khuzhir\n",
      "Processing Record 41 of Set 5 | sentyabrskiy\n",
      "City not found. Skipping...\n",
      "Processing Record 42 of Set 5 | egvekinot\n",
      "Processing Record 43 of Set 5 | qaanaaq\n",
      "Processing Record 44 of Set 5 | vila velha\n",
      "Processing Record 45 of Set 5 | faanui\n",
      "Processing Record 46 of Set 5 | mikhaylovka\n",
      "Processing Record 47 of Set 5 | fortuna\n",
      "Processing Record 48 of Set 5 | limbang\n",
      "Processing Record 49 of Set 5 | ipixuna\n",
      "Processing Record 0 of Set 6 | loei\n",
      "Processing Record 1 of Set 6 | coihaique\n",
      "Processing Record 2 of Set 6 | chapais\n",
      "Processing Record 3 of Set 6 | asfi\n",
      "Processing Record 4 of Set 6 | port hedland\n",
      "Processing Record 5 of Set 6 | puerto narino\n",
      "Processing Record 6 of Set 6 | kaeo\n",
      "Processing Record 7 of Set 6 | hashtrud\n",
      "Processing Record 8 of Set 6 | rawson\n",
      "Processing Record 9 of Set 6 | filingue\n",
      "Processing Record 10 of Set 6 | lolua\n",
      "City not found. Skipping...\n",
      "Processing Record 11 of Set 6 | dunedin\n",
      "Processing Record 12 of Set 6 | selma\n",
      "Processing Record 13 of Set 6 | rayong\n",
      "Processing Record 14 of Set 6 | havre-saint-pierre\n",
      "Processing Record 15 of Set 6 | leh\n",
      "Processing Record 16 of Set 6 | westport\n",
      "Processing Record 17 of Set 6 | sao paulo de olivenca\n",
      "Processing Record 18 of Set 6 | auxerre\n",
      "Processing Record 19 of Set 6 | portland\n",
      "Processing Record 20 of Set 6 | adrar\n",
      "Processing Record 21 of Set 6 | la ronge\n",
      "Processing Record 22 of Set 6 | waipawa\n",
      "Processing Record 23 of Set 6 | sao miguel do araguaia\n",
      "Processing Record 24 of Set 6 | kaihua\n",
      "Processing Record 25 of Set 6 | comodoro rivadavia\n",
      "Processing Record 26 of Set 6 | jahrom\n",
      "City not found. Skipping...\n",
      "Processing Record 27 of Set 6 | olafsvik\n",
      "Processing Record 28 of Set 6 | shache\n",
      "Processing Record 29 of Set 6 | palabuhanratu\n",
      "City not found. Skipping...\n",
      "Processing Record 30 of Set 6 | yumen\n",
      "Processing Record 31 of Set 6 | tiksi\n",
      "Processing Record 32 of Set 6 | tutoia\n",
      "Processing Record 33 of Set 6 | liverpool\n",
      "Processing Record 34 of Set 6 | san juan de uraba\n",
      "Processing Record 35 of Set 6 | guamo\n",
      "Processing Record 36 of Set 6 | maragogi\n",
      "Processing Record 37 of Set 6 | bud\n",
      "Processing Record 38 of Set 6 | thompson\n",
      "Processing Record 39 of Set 6 | la grande\n",
      "Processing Record 40 of Set 6 | deputatskiy\n",
      "Processing Record 41 of Set 6 | iqaluit\n",
      "Processing Record 42 of Set 6 | duartina\n",
      "Processing Record 43 of Set 6 | rio gallegos\n",
      "Processing Record 44 of Set 6 | grand gaube\n",
      "Processing Record 45 of Set 6 | nome\n",
      "Processing Record 46 of Set 6 | attawapiskat\n",
      "City not found. Skipping...\n",
      "Processing Record 47 of Set 6 | beyneu\n",
      "Processing Record 48 of Set 6 | garowe\n",
      "Processing Record 49 of Set 6 | angoram\n",
      "Processing Record 0 of Set 7 | chumikan\n",
      "Processing Record 1 of Set 7 | illoqqortoormiut\n",
      "City not found. Skipping...\n",
      "Processing Record 2 of Set 7 | deep river\n",
      "Processing Record 3 of Set 7 | tilichiki\n",
      "Processing Record 4 of Set 7 | chuy\n",
      "Processing Record 5 of Set 7 | nanakuli\n",
      "Processing Record 6 of Set 7 | san quintin\n",
      "Processing Record 7 of Set 7 | tudela\n",
      "Processing Record 8 of Set 7 | bulolo\n",
      "Processing Record 9 of Set 7 | ahipara\n",
      "Processing Record 10 of Set 7 | kawalu\n",
      "Processing Record 11 of Set 7 | aykhal\n",
      "Processing Record 12 of Set 7 | ucluelet\n",
      "Processing Record 13 of Set 7 | elista\n",
      "Processing Record 14 of Set 7 | walvis bay\n",
      "Processing Record 15 of Set 7 | upernavik\n",
      "Processing Record 16 of Set 7 | san javier\n",
      "Processing Record 17 of Set 7 | pauini\n",
      "Processing Record 18 of Set 7 | benguela\n",
      "Processing Record 19 of Set 7 | malwan\n",
      "City not found. Skipping...\n",
      "Processing Record 20 of Set 7 | viedma\n",
      "Processing Record 21 of Set 7 | semporna\n",
      "Processing Record 22 of Set 7 | akdepe\n",
      "Processing Record 23 of Set 7 | najran\n",
      "Processing Record 24 of Set 7 | karratha\n",
      "Processing Record 25 of Set 7 | griffith\n",
      "Processing Record 26 of Set 7 | almeria\n",
      "Processing Record 27 of Set 7 | mkuranga\n",
      "Processing Record 28 of Set 7 | edd\n",
      "Processing Record 29 of Set 7 | sinnamary\n",
      "Processing Record 30 of Set 7 | callaway\n",
      "Processing Record 31 of Set 7 | lasa\n",
      "Processing Record 32 of Set 7 | santa maria\n",
      "Processing Record 33 of Set 7 | talnakh\n",
      "Processing Record 34 of Set 7 | saint anthony\n",
      "Processing Record 35 of Set 7 | goundi\n",
      "Processing Record 36 of Set 7 | sao joao da barra\n",
      "Processing Record 37 of Set 7 | puerto escondido\n",
      "Processing Record 38 of Set 7 | bambous virieux\n",
      "Processing Record 39 of Set 7 | lorengau\n",
      "Processing Record 40 of Set 7 | koslan\n",
      "Processing Record 41 of Set 7 | bolungarvik\n",
      "City not found. Skipping...\n",
      "Processing Record 42 of Set 7 | pangnirtung\n",
      "Processing Record 43 of Set 7 | vanavara\n",
      "Processing Record 44 of Set 7 | sal rei\n",
      "Processing Record 45 of Set 7 | verkhnevilyuysk\n",
      "Processing Record 46 of Set 7 | spring valley\n",
      "Processing Record 47 of Set 7 | port blair\n",
      "Processing Record 48 of Set 7 | jacqueville\n",
      "Processing Record 49 of Set 7 | maniitsoq\n",
      "Processing Record 0 of Set 8 | esperance\n",
      "Processing Record 1 of Set 8 | petropavlovsk-kamchatskiy\n",
      "Processing Record 2 of Set 8 | port macquarie\n",
      "Processing Record 3 of Set 8 | flinders\n",
      "Processing Record 4 of Set 8 | hervey bay\n",
      "Processing Record 5 of Set 8 | sayyan\n",
      "Processing Record 6 of Set 8 | pitimbu\n",
      "Processing Record 7 of Set 8 | panjwin\n",
      "City not found. Skipping...\n",
      "Processing Record 8 of Set 8 | santa rita\n",
      "Processing Record 9 of Set 8 | alofi\n",
      "Processing Record 10 of Set 8 | zverinogolovskoye\n",
      "Processing Record 11 of Set 8 | gravdal\n",
      "Processing Record 12 of Set 8 | rocha\n",
      "Processing Record 13 of Set 8 | komsomolskiy\n",
      "Processing Record 14 of Set 8 | guanica\n",
      "Processing Record 15 of Set 8 | aswan\n",
      "Processing Record 16 of Set 8 | yabrud\n",
      "Processing Record 17 of Set 8 | farim\n",
      "Processing Record 18 of Set 8 | natal\n",
      "Processing Record 19 of Set 8 | chake chake\n",
      "Processing Record 20 of Set 8 | pangoa\n",
      "Processing Record 21 of Set 8 | lagoa\n",
      "Processing Record 22 of Set 8 | minna\n",
      "Processing Record 23 of Set 8 | the valley\n",
      "Processing Record 24 of Set 8 | qasigiannguit\n",
      "Processing Record 25 of Set 8 | zhanaozen\n",
      "Processing Record 26 of Set 8 | litoral del san juan\n",
      "City not found. Skipping...\n",
      "Processing Record 27 of Set 8 | marawi\n"
     ]
    },
    {
     "name": "stdout",
     "output_type": "stream",
     "text": [
      "Processing Record 28 of Set 8 | san andres\n",
      "Processing Record 29 of Set 8 | ixtapa\n",
      "Processing Record 30 of Set 8 | avera\n",
      "Processing Record 31 of Set 8 | verkhniy baskunchak\n",
      "Processing Record 32 of Set 8 | arraial do cabo\n",
      "Processing Record 33 of Set 8 | asosa\n",
      "Processing Record 34 of Set 8 | moose factory\n",
      "Processing Record 35 of Set 8 | marzuq\n",
      "Processing Record 36 of Set 8 | asau\n",
      "Processing Record 37 of Set 8 | mazyr\n",
      "Processing Record 38 of Set 8 | mizdah\n",
      "Processing Record 39 of Set 8 | lakes entrance\n",
      "Processing Record 40 of Set 8 | norman wells\n",
      "Processing Record 41 of Set 8 | carnarvon\n",
      "Processing Record 42 of Set 8 | gushi\n",
      "Processing Record 43 of Set 8 | northview\n",
      "Processing Record 44 of Set 8 | sao francisco\n",
      "Processing Record 45 of Set 8 | cauquenes\n",
      "Processing Record 46 of Set 8 | cabedelo\n",
      "Processing Record 47 of Set 8 | grand-santi\n",
      "Processing Record 48 of Set 8 | sawakin\n",
      "Processing Record 49 of Set 8 | barentsburg\n",
      "City not found. Skipping...\n",
      "Processing Record 0 of Set 9 | gorontalo\n",
      "Processing Record 1 of Set 9 | kungurtug\n",
      "Processing Record 2 of Set 9 | cap-aux-meules\n",
      "Processing Record 3 of Set 9 | ascension\n",
      "Processing Record 4 of Set 9 | broken hill\n",
      "Processing Record 5 of Set 9 | taoudenni\n",
      "Processing Record 6 of Set 9 | siniscola\n",
      "Processing Record 7 of Set 9 | tadine\n",
      "Processing Record 8 of Set 9 | dalnerechensk\n",
      "Processing Record 9 of Set 9 | bandarbeyla\n",
      "Processing Record 10 of Set 9 | shenjiamen\n",
      "Processing Record 11 of Set 9 | emporia\n",
      "Processing Record 12 of Set 9 | falealupo\n",
      "City not found. Skipping...\n",
      "Processing Record 13 of Set 9 | camacha\n",
      "Processing Record 14 of Set 9 | devils lake\n",
      "Processing Record 15 of Set 9 | shingu\n",
      "Processing Record 16 of Set 9 | ravar\n",
      "Processing Record 17 of Set 9 | hobyo\n",
      "Processing Record 18 of Set 9 | ambanja\n",
      "Processing Record 19 of Set 9 | baykit\n",
      "Processing Record 20 of Set 9 | willowmore\n",
      "Processing Record 21 of Set 9 | miastko\n",
      "Processing Record 22 of Set 9 | zeya\n",
      "Processing Record 23 of Set 9 | tamale\n",
      "Processing Record 24 of Set 9 | jiddah\n",
      "City not found. Skipping...\n",
      "Processing Record 25 of Set 9 | bilma\n",
      "Processing Record 26 of Set 9 | inuvik\n",
      "Processing Record 27 of Set 9 | kailaras\n",
      "Processing Record 28 of Set 9 | maceio\n",
      "Processing Record 29 of Set 9 | yatou\n",
      "Processing Record 30 of Set 9 | srednekolymsk\n",
      "Processing Record 31 of Set 9 | porto novo\n",
      "Processing Record 32 of Set 9 | harer\n",
      "Processing Record 33 of Set 9 | betong\n",
      "Processing Record 34 of Set 9 | madurai\n",
      "Processing Record 35 of Set 9 | bonavista\n",
      "Processing Record 36 of Set 9 | nanga eboko\n",
      "Processing Record 37 of Set 9 | maroantsetra\n",
      "Processing Record 38 of Set 9 | igarka\n",
      "Processing Record 39 of Set 9 | raudeberg\n",
      "Processing Record 40 of Set 9 | montepuez\n",
      "Processing Record 41 of Set 9 | bandiagara\n",
      "Processing Record 42 of Set 9 | lavrentiya\n",
      "Processing Record 43 of Set 9 | odessa\n",
      "Processing Record 44 of Set 9 | mafeteng\n",
      "Processing Record 45 of Set 9 | demerval lobao\n",
      "Processing Record 46 of Set 9 | machiques\n",
      "Processing Record 47 of Set 9 | raub\n",
      "Processing Record 48 of Set 9 | korla\n",
      "Processing Record 49 of Set 9 | saleaula\n",
      "City not found. Skipping...\n",
      "Processing Record 0 of Set 10 | anastacio\n",
      "Processing Record 1 of Set 10 | constantine\n",
      "Processing Record 2 of Set 10 | tsuruoka\n",
      "Processing Record 3 of Set 10 | mandalgovi\n",
      "Processing Record 4 of Set 10 | sibolga\n",
      "Processing Record 5 of Set 10 | praia da vitoria\n",
      "Processing Record 6 of Set 10 | tabuk\n",
      "Processing Record 7 of Set 10 | huarmey\n",
      "Processing Record 8 of Set 10 | sobolevo\n",
      "Processing Record 9 of Set 10 | sosnovo-ozerskoye\n",
      "Processing Record 10 of Set 10 | yanan\n",
      "City not found. Skipping...\n",
      "Processing Record 11 of Set 10 | zhigansk\n",
      "Processing Record 12 of Set 10 | tumannyy\n",
      "City not found. Skipping...\n",
      "Processing Record 13 of Set 10 | wenatchee\n",
      "Processing Record 14 of Set 10 | kahului\n",
      "Processing Record 15 of Set 10 | emba\n",
      "Processing Record 16 of Set 10 | bakel\n",
      "Processing Record 17 of Set 10 | stornoway\n",
      "Processing Record 18 of Set 10 | antofagasta\n",
      "Processing Record 19 of Set 10 | samarai\n",
      "Processing Record 20 of Set 10 | hella\n",
      "Processing Record 21 of Set 10 | sorland\n",
      "Processing Record 22 of Set 10 | tezu\n",
      "Processing Record 23 of Set 10 | hovd\n",
      "Processing Record 24 of Set 10 | balagansk\n",
      "Processing Record 25 of Set 10 | novouzensk\n",
      "Processing Record 26 of Set 10 | maketu\n",
      "Processing Record 27 of Set 10 | erdenet\n",
      "Processing Record 28 of Set 10 | oistins\n",
      "Processing Record 29 of Set 10 | guerrero negro\n",
      "Processing Record 30 of Set 10 | kawambwa\n",
      "Processing Record 31 of Set 10 | guicheng\n",
      "City not found. Skipping...\n",
      "Processing Record 32 of Set 10 | manaure\n",
      "Processing Record 33 of Set 10 | lerik\n",
      "Processing Record 34 of Set 10 | arrecife\n",
      "Processing Record 35 of Set 10 | seybaplaya\n",
      "Processing Record 36 of Set 10 | salalah\n",
      "Processing Record 37 of Set 10 | cayenne\n",
      "Processing Record 38 of Set 10 | mountain home\n",
      "Processing Record 39 of Set 10 | borovskoy\n",
      "Processing Record 40 of Set 10 | onda\n",
      "Processing Record 41 of Set 10 | barawe\n",
      "City not found. Skipping...\n",
      "Processing Record 42 of Set 10 | devonport\n",
      "Processing Record 43 of Set 10 | zlitan\n",
      "Processing Record 44 of Set 10 | cerrito\n",
      "Processing Record 45 of Set 10 | tautira\n",
      "Processing Record 46 of Set 10 | emerald\n",
      "Processing Record 47 of Set 10 | tiarei\n",
      "Processing Record 48 of Set 10 | xushan\n",
      "Processing Record 49 of Set 10 | dudinka\n",
      "Processing Record 0 of Set 11 | tongzi\n",
      "Processing Record 1 of Set 11 | kadykchan\n",
      "City not found. Skipping...\n",
      "Processing Record 2 of Set 11 | buin\n",
      "Processing Record 3 of Set 11 | itarema\n",
      "Processing Record 4 of Set 11 | killybegs\n",
      "Processing Record 5 of Set 11 | atar\n",
      "Processing Record 6 of Set 11 | sur\n",
      "Processing Record 7 of Set 11 | rio grande\n",
      "Processing Record 8 of Set 11 | nantucket\n",
      "Processing Record 9 of Set 11 | thinadhoo\n",
      "Processing Record 10 of Set 11 | mednogorskiy\n",
      "Processing Record 11 of Set 11 | iwanai\n",
      "Processing Record 12 of Set 11 | puerto colombia\n",
      "Processing Record 13 of Set 11 | saint-georges\n",
      "Processing Record 14 of Set 11 | foix\n",
      "Processing Record 15 of Set 11 | narsaq\n",
      "Processing Record 16 of Set 11 | barcelos\n",
      "Processing Record 17 of Set 11 | hudson\n",
      "Processing Record 18 of Set 11 | bali\n",
      "Processing Record 19 of Set 11 | northam\n",
      "Processing Record 20 of Set 11 | mehamn\n",
      "Processing Record 21 of Set 11 | labuhan\n",
      "Processing Record 22 of Set 11 | lucapa\n",
      "Processing Record 23 of Set 11 | mwene-ditu\n",
      "Processing Record 24 of Set 11 | harper\n",
      "Processing Record 25 of Set 11 | auki\n",
      "Processing Record 26 of Set 11 | pyay\n",
      "Processing Record 27 of Set 11 | marcona\n",
      "City not found. Skipping...\n",
      "Processing Record 28 of Set 11 | tongliao\n",
      "Processing Record 29 of Set 11 | oksfjord\n",
      "Processing Record 30 of Set 11 | grindavik\n",
      "Processing Record 31 of Set 11 | goias\n",
      "Processing Record 32 of Set 11 | okhotsk\n",
      "Processing Record 33 of Set 11 | tessalit\n",
      "Processing Record 34 of Set 11 | bondo\n",
      "Processing Record 35 of Set 11 | riyadh\n",
      "Processing Record 36 of Set 11 | mentok\n",
      "City not found. Skipping...\n",
      "Processing Record 37 of Set 11 | abu zabad\n",
      "Processing Record 38 of Set 11 | ust-maya\n",
      "Processing Record 39 of Set 11 | port keats\n",
      "Processing Record 40 of Set 11 | beirut\n",
      "Processing Record 41 of Set 11 | florianopolis\n",
      "Processing Record 42 of Set 11 | mullaitivu\n",
      "City not found. Skipping...\n",
      "Processing Record 43 of Set 11 | tshikapa\n",
      "Processing Record 44 of Set 11 | netivot\n",
      "Processing Record 45 of Set 11 | purpe\n",
      "Processing Record 46 of Set 11 | rungata\n",
      "City not found. Skipping...\n",
      "Processing Record 47 of Set 11 | honiara\n",
      "Processing Record 48 of Set 11 | aksu\n",
      "Processing Record 49 of Set 11 | dekoa\n",
      "City not found. Skipping...\n",
      "Processing Record 0 of Set 12 | alice springs\n",
      "Processing Record 1 of Set 12 | wajima\n",
      "Processing Record 2 of Set 12 | mchinji\n",
      "Processing Record 3 of Set 12 | waingapu\n",
      "Processing Record 4 of Set 12 | butajira\n",
      "Processing Record 5 of Set 12 | mazamari\n",
      "Processing Record 6 of Set 12 | panguna\n",
      "Processing Record 7 of Set 12 | pavino\n",
      "Processing Record 8 of Set 12 | mokhsogollokh\n",
      "Processing Record 9 of Set 12 | redwater\n",
      "Processing Record 10 of Set 12 | neyshabur\n",
      "Processing Record 11 of Set 12 | general roca\n",
      "Processing Record 12 of Set 12 | timmins\n",
      "Processing Record 13 of Set 12 | suzun\n",
      "Processing Record 14 of Set 12 | porosozero\n",
      "Processing Record 15 of Set 12 | sumbe\n",
      "Processing Record 16 of Set 12 | ugoofaaru\n"
     ]
    },
    {
     "name": "stdout",
     "output_type": "stream",
     "text": [
      "Processing Record 17 of Set 12 | half moon bay\n",
      "Processing Record 18 of Set 12 | farmos\n",
      "Processing Record 19 of Set 12 | sussex\n",
      "Processing Record 20 of Set 12 | palmer\n",
      "Processing Record 21 of Set 12 | tsogni\n",
      "Processing Record 22 of Set 12 | quelimane\n",
      "Processing Record 23 of Set 12 | tupik\n",
      "Processing Record 24 of Set 12 | sao caitano\n",
      "Processing Record 25 of Set 12 | micheweni\n",
      "Processing Record 26 of Set 12 | biberach\n",
      "Processing Record 27 of Set 12 | leshukonskoye\n",
      "Processing Record 28 of Set 12 | hermiston\n",
      "Processing Record 29 of Set 12 | sayula\n",
      "Processing Record 30 of Set 12 | saint-pierre\n",
      "Processing Record 31 of Set 12 | turan\n",
      "Processing Record 32 of Set 12 | lira\n",
      "Processing Record 33 of Set 12 | taos\n",
      "Processing Record 34 of Set 12 | ulladulla\n",
      "Processing Record 35 of Set 12 | kudahuvadhoo\n",
      "Processing Record 36 of Set 12 | toora-khem\n",
      "Processing Record 37 of Set 12 | sines\n",
      "Processing Record 38 of Set 12 | sikonge\n",
      "Processing Record 39 of Set 12 | kushiro\n",
      "Processing Record 40 of Set 12 | thabazimbi\n",
      "Processing Record 41 of Set 12 | coquimbo\n",
      "Processing Record 42 of Set 12 | sibiti\n",
      "Processing Record 43 of Set 12 | karakol\n",
      "Processing Record 44 of Set 12 | batesville\n",
      "Processing Record 45 of Set 12 | elk city\n",
      "Processing Record 46 of Set 12 | coalinga\n",
      "Processing Record 47 of Set 12 | tura\n",
      "Processing Record 48 of Set 12 | decatur\n",
      "Processing Record 49 of Set 12 | kayan\n",
      "Processing Record 0 of Set 13 | gorodishche\n",
      "Processing Record 1 of Set 13 | hofn\n",
      "Processing Record 2 of Set 13 | usogorsk\n",
      "Processing Record 3 of Set 13 | batemans bay\n",
      "Processing Record 4 of Set 13 | saint-paul\n",
      "Processing Record 5 of Set 13 | chakan\n",
      "Processing Record 6 of Set 13 | kedrovyy\n",
      "-----------------------------\n",
      "Data Retrieval Complete      \n",
      "-----------------------------\n"
     ]
    }
   ],
   "source": [
    "# Starting URL for Weather Map API Call\n",
    "#url = \"http://api.openweathermap.org/data/2.5/weather?units=Imperial&APPID=\" + weather_api_key\n",
    "url = \"http://api.openweathermap.org/data/2.5/weather?units=Imperial&APPID=f2e7be3fbf6a6ca5ee22f83c7998246c\"\n",
    "\n",
    "# List of city data\n",
    "city_data = []\n",
    "\n",
    "# Print to logger\n",
    "print(\"Beginning Data Retrieval     \")\n",
    "print(\"-----------------------------\")\n",
    "\n",
    "# Create counters\n",
    "record_count = 1\n",
    "set_count = 1\n",
    "\n",
    "# Loop through all the cities in our list\n",
    "for i, city in enumerate(cities):\n",
    "        \n",
    "    # Group cities in sets of 50 for logging purposes\n",
    "    if (i % 50 == 0 and i >= 50):\n",
    "        set_count += 1\n",
    "        record_count = 0\n",
    "\n",
    "    # Create endpoint URL with each city\n",
    "    city_url = url + \"&q=\" + city\n",
    "    \n",
    "    # Log the url, record, and set numbers\n",
    "    print(\"Processing Record %s of Set %s | %s\" % (record_count, set_count, city))\n",
    "\n",
    "    # Add 1 to the record count\n",
    "    record_count += 1\n",
    "\n",
    "    # Run an API request for each of the cities\n",
    "    try:\n",
    "        # Parse the JSON and retrieve data\n",
    "        city_weather = requests.get(city_url).json()\n",
    "\n",
    "        # Parse out the max temp, humidity, and cloudiness\n",
    "        city_lat = city_weather[\"coord\"][\"lat\"]\n",
    "        city_lng = city_weather[\"coord\"][\"lon\"]\n",
    "        city_max_temp = city_weather[\"main\"][\"temp_max\"]\n",
    "        city_humidity = city_weather[\"main\"][\"humidity\"]\n",
    "        city_clouds = city_weather[\"clouds\"][\"all\"]\n",
    "        city_wind = city_weather[\"wind\"][\"speed\"]\n",
    "        city_country = city_weather[\"sys\"][\"country\"]\n",
    "        city_date = city_weather[\"dt\"]\n",
    "\n",
    "        # Append the City information into city_data list\n",
    "        city_data.append({\"City\": city, \n",
    "                          \"Lat\": city_lat, \n",
    "                          \"Lng\": city_lng, \n",
    "                          \"Max Temp\": city_max_temp,\n",
    "                          \"Humidity\": city_humidity,\n",
    "                          \"Cloudiness\": city_clouds,\n",
    "                          \"Wind Speed\": city_wind,\n",
    "                          \"Country\": city_country,\n",
    "                          \"Date\": city_date})\n",
    "\n",
    "    # If an error is experienced, skip the city\n",
    "    except:\n",
    "        print(\"City not found. Skipping...\")\n",
    "        pass\n",
    "              \n",
    "# Indicate that Data Loading is complete \n",
    "print(\"-----------------------------\")\n",
    "print(\"Data Retrieval Complete      \")\n",
    "print(\"-----------------------------\")"
   ]
  },
  {
   "cell_type": "markdown",
   "metadata": {},
   "source": [
    "## Generate Cities List"
   ]
  },
  {
   "cell_type": "markdown",
   "metadata": {},
   "source": [
    "### Convert Raw Data to DataFrame\n",
    "* Export the city data into a .csv.\n",
    "* Display the DataFrame"
   ]
  },
  {
   "cell_type": "code",
   "execution_count": 4,
   "metadata": {},
   "outputs": [],
   "source": [
    "# Passing the data into a DataFrame to work with\n",
    "\n",
    "all_cities_df=pd.DataFrame(city_data)"
   ]
  },
  {
   "cell_type": "code",
   "execution_count": 5,
   "metadata": {},
   "outputs": [
    {
     "data": {
      "text/html": [
       "<div>\n",
       "<style scoped>\n",
       "    .dataframe tbody tr th:only-of-type {\n",
       "        vertical-align: middle;\n",
       "    }\n",
       "\n",
       "    .dataframe tbody tr th {\n",
       "        vertical-align: top;\n",
       "    }\n",
       "\n",
       "    .dataframe thead th {\n",
       "        text-align: right;\n",
       "    }\n",
       "</style>\n",
       "<table border=\"1\" class=\"dataframe\">\n",
       "  <thead>\n",
       "    <tr style=\"text-align: right;\">\n",
       "      <th></th>\n",
       "      <th>City</th>\n",
       "      <th>Lat</th>\n",
       "      <th>Lng</th>\n",
       "      <th>Max Temp</th>\n",
       "      <th>Humidity</th>\n",
       "      <th>Cloudiness</th>\n",
       "      <th>Wind Speed</th>\n",
       "      <th>Country</th>\n",
       "      <th>Date</th>\n",
       "    </tr>\n",
       "  </thead>\n",
       "  <tbody>\n",
       "    <tr>\n",
       "      <th>0</th>\n",
       "      <td>turukhansk</td>\n",
       "      <td>65.8167</td>\n",
       "      <td>87.9833</td>\n",
       "      <td>-16.71</td>\n",
       "      <td>85</td>\n",
       "      <td>2</td>\n",
       "      <td>6.85</td>\n",
       "      <td>RU</td>\n",
       "      <td>1615434716</td>\n",
       "    </tr>\n",
       "    <tr>\n",
       "      <th>1</th>\n",
       "      <td>kodiak</td>\n",
       "      <td>57.7900</td>\n",
       "      <td>-152.4072</td>\n",
       "      <td>33.80</td>\n",
       "      <td>47</td>\n",
       "      <td>1</td>\n",
       "      <td>23.02</td>\n",
       "      <td>US</td>\n",
       "      <td>1615434716</td>\n",
       "    </tr>\n",
       "    <tr>\n",
       "      <th>2</th>\n",
       "      <td>yar-sale</td>\n",
       "      <td>66.8333</td>\n",
       "      <td>70.8333</td>\n",
       "      <td>-28.25</td>\n",
       "      <td>83</td>\n",
       "      <td>0</td>\n",
       "      <td>6.98</td>\n",
       "      <td>RU</td>\n",
       "      <td>1615434717</td>\n",
       "    </tr>\n",
       "  </tbody>\n",
       "</table>\n",
       "</div>"
      ],
      "text/plain": [
       "         City      Lat       Lng  Max Temp  Humidity  Cloudiness  Wind Speed  \\\n",
       "0  turukhansk  65.8167   87.9833    -16.71        85           2        6.85   \n",
       "1      kodiak  57.7900 -152.4072     33.80        47           1       23.02   \n",
       "2    yar-sale  66.8333   70.8333    -28.25        83           0        6.98   \n",
       "\n",
       "  Country        Date  \n",
       "0      RU  1615434716  \n",
       "1      US  1615434716  \n",
       "2      RU  1615434717  "
      ]
     },
     "execution_count": 5,
     "metadata": {},
     "output_type": "execute_result"
    }
   ],
   "source": [
    "# Showing the output\n",
    "\n",
    "all_cities_df.head(3)"
   ]
  },
  {
   "cell_type": "code",
   "execution_count": 6,
   "metadata": {},
   "outputs": [],
   "source": [
    "# Exporting the data to a CSV file...\n",
    "\n",
    "all_cities_df.to_csv(\"../Output/all_cities_df.csv\", index=False, header=True)"
   ]
  },
  {
   "cell_type": "code",
   "execution_count": 7,
   "metadata": {},
   "outputs": [
    {
     "name": "stdout",
     "output_type": "stream",
     "text": [
      "There is a total of 563 displayed cities in the data frame.\n"
     ]
    }
   ],
   "source": [
    "print (f\"There is a total of {len(all_cities_df)} displayed cities in the data frame.\")"
   ]
  },
  {
   "cell_type": "code",
   "execution_count": 8,
   "metadata": {},
   "outputs": [
    {
     "data": {
      "text/html": [
       "<div>\n",
       "<style scoped>\n",
       "    .dataframe tbody tr th:only-of-type {\n",
       "        vertical-align: middle;\n",
       "    }\n",
       "\n",
       "    .dataframe tbody tr th {\n",
       "        vertical-align: top;\n",
       "    }\n",
       "\n",
       "    .dataframe thead th {\n",
       "        text-align: right;\n",
       "    }\n",
       "</style>\n",
       "<table border=\"1\" class=\"dataframe\">\n",
       "  <thead>\n",
       "    <tr style=\"text-align: right;\">\n",
       "      <th></th>\n",
       "      <th>City</th>\n",
       "      <th>Lat</th>\n",
       "      <th>Lng</th>\n",
       "      <th>Max Temp</th>\n",
       "      <th>Humidity</th>\n",
       "      <th>Cloudiness</th>\n",
       "      <th>Wind Speed</th>\n",
       "      <th>Country</th>\n",
       "      <th>Date</th>\n",
       "    </tr>\n",
       "  </thead>\n",
       "  <tbody>\n",
       "    <tr>\n",
       "      <th>0</th>\n",
       "      <td>turukhansk</td>\n",
       "      <td>65.8167</td>\n",
       "      <td>87.9833</td>\n",
       "      <td>-16.71</td>\n",
       "      <td>85</td>\n",
       "      <td>2</td>\n",
       "      <td>6.85</td>\n",
       "      <td>RU</td>\n",
       "      <td>1615434716</td>\n",
       "    </tr>\n",
       "    <tr>\n",
       "      <th>1</th>\n",
       "      <td>kodiak</td>\n",
       "      <td>57.7900</td>\n",
       "      <td>-152.4072</td>\n",
       "      <td>33.80</td>\n",
       "      <td>47</td>\n",
       "      <td>1</td>\n",
       "      <td>23.02</td>\n",
       "      <td>US</td>\n",
       "      <td>1615434716</td>\n",
       "    </tr>\n",
       "    <tr>\n",
       "      <th>2</th>\n",
       "      <td>yar-sale</td>\n",
       "      <td>66.8333</td>\n",
       "      <td>70.8333</td>\n",
       "      <td>-28.25</td>\n",
       "      <td>83</td>\n",
       "      <td>0</td>\n",
       "      <td>6.98</td>\n",
       "      <td>RU</td>\n",
       "      <td>1615434717</td>\n",
       "    </tr>\n",
       "    <tr>\n",
       "      <th>3</th>\n",
       "      <td>ginda</td>\n",
       "      <td>30.6945</td>\n",
       "      <td>78.4932</td>\n",
       "      <td>68.00</td>\n",
       "      <td>56</td>\n",
       "      <td>0</td>\n",
       "      <td>3.44</td>\n",
       "      <td>IN</td>\n",
       "      <td>1615434717</td>\n",
       "    </tr>\n",
       "    <tr>\n",
       "      <th>4</th>\n",
       "      <td>mount isa</td>\n",
       "      <td>-20.7333</td>\n",
       "      <td>139.5000</td>\n",
       "      <td>89.60</td>\n",
       "      <td>45</td>\n",
       "      <td>75</td>\n",
       "      <td>6.91</td>\n",
       "      <td>AU</td>\n",
       "      <td>1615434717</td>\n",
       "    </tr>\n",
       "  </tbody>\n",
       "</table>\n",
       "</div>"
      ],
      "text/plain": [
       "         City      Lat       Lng  Max Temp  Humidity  Cloudiness  Wind Speed  \\\n",
       "0  turukhansk  65.8167   87.9833    -16.71        85           2        6.85   \n",
       "1      kodiak  57.7900 -152.4072     33.80        47           1       23.02   \n",
       "2    yar-sale  66.8333   70.8333    -28.25        83           0        6.98   \n",
       "3       ginda  30.6945   78.4932     68.00        56           0        3.44   \n",
       "4   mount isa -20.7333  139.5000     89.60        45          75        6.91   \n",
       "\n",
       "  Country        Date  \n",
       "0      RU  1615434716  \n",
       "1      US  1615434716  \n",
       "2      RU  1615434717  \n",
       "3      IN  1615434717  \n",
       "4      AU  1615434717  "
      ]
     },
     "execution_count": 8,
     "metadata": {},
     "output_type": "execute_result"
    }
   ],
   "source": [
    "# Inspect the data and remove the cities where the humidity > 100%.\n",
    "\n",
    "filtered_cities=all_cities_df[all_cities_df['Humidity']<=100]\n",
    "filtered_cities.head()"
   ]
  },
  {
   "cell_type": "code",
   "execution_count": 9,
   "metadata": {},
   "outputs": [
    {
     "data": {
      "text/html": [
       "<div>\n",
       "<style scoped>\n",
       "    .dataframe tbody tr th:only-of-type {\n",
       "        vertical-align: middle;\n",
       "    }\n",
       "\n",
       "    .dataframe tbody tr th {\n",
       "        vertical-align: top;\n",
       "    }\n",
       "\n",
       "    .dataframe thead th {\n",
       "        text-align: right;\n",
       "    }\n",
       "</style>\n",
       "<table border=\"1\" class=\"dataframe\">\n",
       "  <thead>\n",
       "    <tr style=\"text-align: right;\">\n",
       "      <th></th>\n",
       "      <th>City</th>\n",
       "      <th>Lat</th>\n",
       "      <th>Lng</th>\n",
       "      <th>Max Temp</th>\n",
       "      <th>Humidity</th>\n",
       "      <th>Cloudiness</th>\n",
       "      <th>Wind Speed</th>\n",
       "      <th>Country</th>\n",
       "      <th>Date</th>\n",
       "    </tr>\n",
       "  </thead>\n",
       "  <tbody>\n",
       "    <tr>\n",
       "      <th>0</th>\n",
       "      <td>turukhansk</td>\n",
       "      <td>65.8167</td>\n",
       "      <td>87.9833</td>\n",
       "      <td>-16.71</td>\n",
       "      <td>85</td>\n",
       "      <td>2</td>\n",
       "      <td>6.85</td>\n",
       "      <td>RU</td>\n",
       "      <td>1615434716</td>\n",
       "    </tr>\n",
       "    <tr>\n",
       "      <th>1</th>\n",
       "      <td>kodiak</td>\n",
       "      <td>57.7900</td>\n",
       "      <td>-152.4072</td>\n",
       "      <td>33.80</td>\n",
       "      <td>47</td>\n",
       "      <td>1</td>\n",
       "      <td>23.02</td>\n",
       "      <td>US</td>\n",
       "      <td>1615434716</td>\n",
       "    </tr>\n",
       "    <tr>\n",
       "      <th>2</th>\n",
       "      <td>yar-sale</td>\n",
       "      <td>66.8333</td>\n",
       "      <td>70.8333</td>\n",
       "      <td>-28.25</td>\n",
       "      <td>83</td>\n",
       "      <td>0</td>\n",
       "      <td>6.98</td>\n",
       "      <td>RU</td>\n",
       "      <td>1615434717</td>\n",
       "    </tr>\n",
       "  </tbody>\n",
       "</table>\n",
       "</div>"
      ],
      "text/plain": [
       "         City      Lat       Lng  Max Temp  Humidity  Cloudiness  Wind Speed  \\\n",
       "0  turukhansk  65.8167   87.9833    -16.71        85           2        6.85   \n",
       "1      kodiak  57.7900 -152.4072     33.80        47           1       23.02   \n",
       "2    yar-sale  66.8333   70.8333    -28.25        83           0        6.98   \n",
       "\n",
       "  Country        Date  \n",
       "0      RU  1615434716  \n",
       "1      US  1615434716  \n",
       "2      RU  1615434717  "
      ]
     },
     "execution_count": 9,
     "metadata": {},
     "output_type": "execute_result"
    }
   ],
   "source": [
    "filtered_cities.rename(columns={'Lat':'Latitude','Lng': 'Longitude','Max Temp': 'Maximum Temperature'})\n",
    "filtered_cities.head(3)"
   ]
  },
  {
   "cell_type": "code",
   "execution_count": 10,
   "metadata": {},
   "outputs": [
    {
     "name": "stdout",
     "output_type": "stream",
     "text": [
      "There are 563 cities within the range of 0 to 100 percent of humidity in the dataframe.\n"
     ]
    }
   ],
   "source": [
    "print(f'There are {len(filtered_cities)} cities within the range of 0 to 100 percent of humidity in the dataframe.')"
   ]
  },
  {
   "cell_type": "code",
   "execution_count": 11,
   "metadata": {},
   "outputs": [
    {
     "name": "stdout",
     "output_type": "stream",
     "text": [
      "There are 0 cities with over 100% in the dataset.\n"
     ]
    }
   ],
   "source": [
    "#  Get the indices of cities that have humidity over 100%.\n",
    "\n",
    "high_humidity=all_cities_df.loc[all_cities_df['Humidity']>100]\n",
    "print(f'There are {len(high_humidity)} cities with over 100% in the dataset.')\n"
   ]
  },
  {
   "cell_type": "code",
   "execution_count": 12,
   "metadata": {},
   "outputs": [
    {
     "data": {
      "text/plain": [
       "Int64Index([], dtype='int64')"
      ]
     },
     "execution_count": 12,
     "metadata": {},
     "output_type": "execute_result"
    }
   ],
   "source": [
    "#  Get the indices of cities that have humidity over 100%.\n",
    "\n",
    "high_humidity_index=high_humidity.index\n",
    "high_humidity_index"
   ]
  },
  {
   "cell_type": "code",
   "execution_count": 13,
   "metadata": {},
   "outputs": [
    {
     "data": {
      "text/html": [
       "<div>\n",
       "<style scoped>\n",
       "    .dataframe tbody tr th:only-of-type {\n",
       "        vertical-align: middle;\n",
       "    }\n",
       "\n",
       "    .dataframe tbody tr th {\n",
       "        vertical-align: top;\n",
       "    }\n",
       "\n",
       "    .dataframe thead th {\n",
       "        text-align: right;\n",
       "    }\n",
       "</style>\n",
       "<table border=\"1\" class=\"dataframe\">\n",
       "  <thead>\n",
       "    <tr style=\"text-align: right;\">\n",
       "      <th></th>\n",
       "      <th>City</th>\n",
       "      <th>Latitude</th>\n",
       "      <th>Longitude</th>\n",
       "      <th>Maximum Temperature</th>\n",
       "      <th>Humidity</th>\n",
       "      <th>Cloudiness</th>\n",
       "      <th>Wind Speed</th>\n",
       "      <th>Country</th>\n",
       "      <th>Date</th>\n",
       "    </tr>\n",
       "  </thead>\n",
       "  <tbody>\n",
       "    <tr>\n",
       "      <th>0</th>\n",
       "      <td>turukhansk</td>\n",
       "      <td>65.8167</td>\n",
       "      <td>87.9833</td>\n",
       "      <td>-16.71</td>\n",
       "      <td>85</td>\n",
       "      <td>2</td>\n",
       "      <td>6.85</td>\n",
       "      <td>RU</td>\n",
       "      <td>1615434716</td>\n",
       "    </tr>\n",
       "    <tr>\n",
       "      <th>1</th>\n",
       "      <td>kodiak</td>\n",
       "      <td>57.7900</td>\n",
       "      <td>-152.4072</td>\n",
       "      <td>33.80</td>\n",
       "      <td>47</td>\n",
       "      <td>1</td>\n",
       "      <td>23.02</td>\n",
       "      <td>US</td>\n",
       "      <td>1615434716</td>\n",
       "    </tr>\n",
       "    <tr>\n",
       "      <th>2</th>\n",
       "      <td>yar-sale</td>\n",
       "      <td>66.8333</td>\n",
       "      <td>70.8333</td>\n",
       "      <td>-28.25</td>\n",
       "      <td>83</td>\n",
       "      <td>0</td>\n",
       "      <td>6.98</td>\n",
       "      <td>RU</td>\n",
       "      <td>1615434717</td>\n",
       "    </tr>\n",
       "  </tbody>\n",
       "</table>\n",
       "</div>"
      ],
      "text/plain": [
       "         City  Latitude  Longitude  Maximum Temperature  Humidity  Cloudiness  \\\n",
       "0  turukhansk   65.8167    87.9833               -16.71        85           2   \n",
       "1      kodiak   57.7900  -152.4072                33.80        47           1   \n",
       "2    yar-sale   66.8333    70.8333               -28.25        83           0   \n",
       "\n",
       "   Wind Speed Country        Date  \n",
       "0        6.85      RU  1615434716  \n",
       "1       23.02      US  1615434716  \n",
       "2        6.98      RU  1615434717  "
      ]
     },
     "execution_count": 13,
     "metadata": {},
     "output_type": "execute_result"
    }
   ],
   "source": [
    "# Make a new DataFrame equal to the city data to drop all humidity outliers by index.\n",
    "# Passing \"inplace=False\" will make a copy of the city_data DataFrame, which we call \"clean_city_data\".\n",
    "\n",
    "clean_cities_df=all_cities_df.drop(high_humidity_index, inplace=False)\n",
    "clean_cities_df=clean_cities_df.rename(columns={'Lat':'Latitude','Lng': 'Longitude','Max Temp': 'Maximum Temperature'})\n",
    "clean_cities_df.head(3)"
   ]
  },
  {
   "cell_type": "markdown",
   "metadata": {},
   "source": [
    "## Plotting the Data\n",
    "* Use proper labeling of the plots using plot titles (including date of analysis) and axes labels.\n",
    "* Save the plotted figures as .pngs."
   ]
  },
  {
   "cell_type": "markdown",
   "metadata": {},
   "source": [
    "## Latitude vs. Temperature Plot"
   ]
  },
  {
   "cell_type": "code",
   "execution_count": 14,
   "metadata": {
    "scrolled": true
   },
   "outputs": [
    {
     "data": {
      "image/png": "[encoded data removed]",
      "text/plain": [
       "<Figure size 432x288 with 1 Axes>"
      ]
     },
     "metadata": {
      "needs_background": "light"
     },
     "output_type": "display_data"
    }
   ],
   "source": [
    "# Latitude VS. Temperature Plot: Pandas Method\n",
    "\n",
    "lat_temp_plot=clean_cities_df.plot(kind=\"scatter\",x='Latitude',y='Maximum Temperature', grid=True,figsize=(6,4), title=\"Latitude VS. Temperature Plot\").get_figure()\n",
    "\n",
    "# Saving the graph in 'Images' folder in png format\n",
    "\n",
    "lat_temp_plot.savefig(\"../Images/lat_temp_plotA.png\")"
   ]
  },
  {
   "cell_type": "markdown",
   "metadata": {},
   "source": [
    "What this scatter plot is showing us is the relation that Latitude and Temperature have with each other in our Cities Database.\n",
    "\n",
    "This is telling us the next:\n",
    "\n",
    "1. By having lower or negative values in our Temperature Axis, means that cities will also tend to have a higher latitude.\n",
    "2. By having higher values in our Temperature Axis, means that cities will tend to have a lower latitude or being closer to the equator.\n",
    "3. There is a strong correlation between the 2 variables analyzed in the plot."
   ]
  },
  {
   "cell_type": "markdown",
   "metadata": {},
   "source": [
    "## Latitude vs. Humidity Plot"
   ]
  },
  {
   "cell_type": "code",
   "execution_count": 15,
   "metadata": {},
   "outputs": [
    {
     "data": {
      "image/png": "[encoded data removed]",
      "text/plain": [
       "<Figure size 432x288 with 1 Axes>"
      ]
     },
     "metadata": {
      "needs_background": "light"
     },
     "output_type": "display_data"
    }
   ],
   "source": [
    "# Latitude VS. Humidity Plot: Pandas Method\n",
    "\n",
    "lat_humid_plot=clean_cities_df.plot(kind=\"scatter\",x='Latitude',y='Humidity', grid=True,figsize=(6,4), title=\"Latitude VS. Humidity Plot\").get_figure()\n",
    "\n",
    "# Saving the graph in 'Images' folder in png format\n",
    "\n",
    "lat_humid_plot.savefig(\"../Images/lat_humid_plotA.png\")"
   ]
  },
  {
   "cell_type": "markdown",
   "metadata": {},
   "source": [
    "What this scatter plot is showing us is the relation that Latitude and Humidity have with each other in our Cities Database.\n",
    "\n",
    "This is telling us the next:\n",
    "\n",
    "1. There is a trend that cities below 0 latitude have higher humidity indexes.\n",
    "2. There is another trend that cities above 0 latitude have a more diverse humidity indexes."
   ]
  },
  {
   "cell_type": "markdown",
   "metadata": {},
   "source": [
    "## Latitude vs. Cloudiness Plot"
   ]
  },
  {
   "cell_type": "code",
   "execution_count": 16,
   "metadata": {},
   "outputs": [
    {
     "data": {
      "image/png": "[encoded data removed]",
      "text/plain": [
       "<Figure size 432x288 with 1 Axes>"
      ]
     },
     "metadata": {
      "needs_background": "light"
     },
     "output_type": "display_data"
    }
   ],
   "source": [
    "# Latitude VS. Cloudiness Plot: Pandas Method\n",
    "\n",
    "lat_cloud_plot=clean_cities_df.plot(kind=\"scatter\",x='Latitude',y='Cloudiness', grid=True,figsize=(6,4), title=\"Latitude VS. Cloudiness Plot\").get_figure()\n",
    "\n",
    "# Saving the graph in 'Images' folder in png format\n",
    "\n",
    "lat_cloud_plot.savefig(\"../Images/lat_cloud_plotA.png\")"
   ]
  },
  {
   "cell_type": "markdown",
   "metadata": {},
   "source": [
    "What this scatter plot is showing us is the relation that Latitude and Cloudiness have with each other in our Cities Database.\n",
    "\n",
    "This is telling us the next:\n",
    "\n",
    "1. What we can get from the plot is that cities tend to have cloudiness wether they have a low or high altitude.\n",
    "2. Point 1 also applies wether there are negative or positive points in latitude."
   ]
  },
  {
   "cell_type": "markdown",
   "metadata": {},
   "source": [
    "## Latitude vs. Wind Speed Plot"
   ]
  },
  {
   "cell_type": "code",
   "execution_count": 17,
   "metadata": {},
   "outputs": [
    {
     "data": {
      "image/png": "[encoded data removed]",
      "text/plain": [
       "<Figure size 432x288 with 1 Axes>"
      ]
     },
     "metadata": {
      "needs_background": "light"
     },
     "output_type": "display_data"
    }
   ],
   "source": [
    "# Latitude VS. Wind Speed Plot: Pandas Method\n",
    "\n",
    "lat_wind_plot=clean_cities_df.plot(kind=\"scatter\",x='Latitude',y='Wind Speed', grid=True,figsize=(6,4), title=\"Latitude VS. Wind Speed Plot\").get_figure()\n",
    "\n",
    "# Saving the graph in 'Images' folder in png format\n",
    "\n",
    "lat_wind_plot.savefig(\"../Images/lat_wind_plotA.png\")"
   ]
  },
  {
   "cell_type": "markdown",
   "metadata": {},
   "source": [
    "What this scatter plot is showing us is the relation that Latitude and Wind Speed have with each other in our Cities Database.\n",
    "\n",
    "This is telling us the next:\n",
    "\n",
    "1. What we get from the plot is that all cities, despite having a low or high altitude, have Wind Speeds ranging around 0 to 20 mph.\n",
    "2. Also a thing to notice is that the majority of cities are in some point between -40 to 75 in the Latitude axis."
   ]
  },
  {
   "cell_type": "markdown",
   "metadata": {},
   "source": [
    "## Linear Regression"
   ]
  },
  {
   "cell_type": "markdown",
   "metadata": {},
   "source": [
    "####  Northern Hemisphere - Max Temp vs. Latitude Linear Regression"
   ]
  },
  {
   "cell_type": "code",
   "execution_count": 18,
   "metadata": {},
   "outputs": [
    {
     "data": {
      "image/png": "[encoded data removed]",
      "text/plain": [
       "<Figure size 432x288 with 1 Axes>"
      ]
     },
     "metadata": {
      "needs_background": "light"
     },
     "output_type": "display_data"
    },
    {
     "name": "stdout",
     "output_type": "stream",
     "text": [
      "The r value of this linear regression is: -0.88.\n"
     ]
    }
   ],
   "source": [
    "# Linear Regression: Northern Hemisphere- Maximum Temperature VS. Latitude\n",
    "\n",
    "# Specifying which cities to work with by establishing the Northern Hemisphere\n",
    "northern_cities_df=clean_cities_df.loc[clean_cities_df['Latitude']>=0]\n",
    "\n",
    "latitude=northern_cities_df['Latitude'] # X Value\n",
    "max_temp=northern_cities_df['Maximum Temperature'] # Y Value\n",
    "\n",
    "(slope, intercept, rvalue, pvalue, stderr) = linregress(latitude,max_temp)\n",
    "\n",
    "regress_values = latitude * slope + intercept\n",
    "line_eq = \"y = \" + str(round(slope,2)) + \"x + \" + str(round(intercept,2))\n",
    "plt.plot(latitude,regress_values,\"r-\")\n",
    "plt.annotate(line_eq,(10,10),fontsize=20,color=\"red\")\n",
    "\n",
    "plt.scatter(latitude,max_temp)\n",
    "plt.title('Northern Hemisphere: Maximum Temperature VS. Latitude')\n",
    "plt.ylabel('Maximum Temperature')\n",
    "plt.xlabel('Latitude')\n",
    "\n",
    "# Saving the graph in 'Images' folder in png format\n",
    "plt.savefig(\"../Images/north_temp_vs_latA.png\")\n",
    "\n",
    "plt.show()\n",
    "print(f'The r value of this linear regression is: {round(rvalue,2)}.')\n"
   ]
  },
  {
   "cell_type": "markdown",
   "metadata": {},
   "source": [
    "What this scatter plot with linear regression is showing us is the relation that Latitude and Maximum Temperature have with each other in our Cities Database.\n",
    "\n",
    "This is telling us the next: \n",
    "1. There is a direct and strong correlation between the two variables.\n",
    "2. With a higher latitude results in having lower temperatures.\n",
    "3. With a lower latitude results in having a higher temperature.\n",
    "4. The r value with -0.88 means that there is a strong correlation between the two variables."
   ]
  },
  {
   "cell_type": "markdown",
   "metadata": {},
   "source": [
    "####  Southern Hemisphere - Max Temp vs. Latitude Linear Regression"
   ]
  },
  {
   "cell_type": "code",
   "execution_count": 19,
   "metadata": {},
   "outputs": [
    {
     "data": {
      "image/png": "[encoded data removed]",
      "text/plain": [
       "<Figure size 432x288 with 1 Axes>"
      ]
     },
     "metadata": {
      "needs_background": "light"
     },
     "output_type": "display_data"
    },
    {
     "name": "stdout",
     "output_type": "stream",
     "text": [
      "The r value of this linear regression is: 0.55.\n"
     ]
    }
   ],
   "source": [
    "# Linear Regression: Southern Hemisphere- Maximum Temperature VS. Latitude\n",
    "\n",
    "# Specifying which cities to work with by establishing the Southern Hemisphere\n",
    "southern_cities_df=clean_cities_df.loc[clean_cities_df['Latitude']<0]\n",
    "\n",
    "latitude=southern_cities_df['Latitude'] # X Value\n",
    "max_temp=southern_cities_df['Maximum Temperature'] # Y Value\n",
    "\n",
    "(slope, intercept, rvalue, pvalue, stderr) = linregress(latitude,max_temp)\n",
    "\n",
    "regress_values = latitude * slope + intercept\n",
    "line_eq = \"y = \" + str(round(slope,2)) + \"x + \" + str(round(intercept,2))\n",
    "plt.plot(latitude,regress_values,\"r-\")\n",
    "plt.annotate(line_eq,(-40,65),fontsize=20,color=\"red\")\n",
    "\n",
    "plt.scatter(latitude,max_temp) ##CHANGE TITLES HERE\n",
    "plt.title('Southern Hemisphere: Maximum Temperature VS. Latitude')\n",
    "plt.ylabel('Maximum Temperature')\n",
    "plt.xlabel('Latitude')\n",
    "\n",
    "# Saving the graph in 'Images' folder in png format\n",
    "plt.savefig(\"../Images/south_temp_vs_latA.png\")\n",
    "\n",
    "plt.show()\n",
    "print(f'The r value of this linear regression is: {round(rvalue,2)}.')"
   ]
  },
  {
   "cell_type": "markdown",
   "metadata": {},
   "source": [
    "What this scatter plot with linear regression is showing us is the relation that Latitude and Maximum Temperature have with each other specifically in cities in the Southern Hemisphere.\n",
    "\n",
    "This is telling us the next: \n",
    "\n",
    "1. There is a direct correlation between the two variables, although not a strong one with an r value of 0.55.\n",
    "2. With a latitude coming closer to 0, results in having higher temperatures.\n",
    "3. With a lower latitude, moving away from 0, results in having a lower temperature."
   ]
  },
  {
   "cell_type": "markdown",
   "metadata": {},
   "source": [
    "####  Northern Hemisphere - Humidity (%) vs. Latitude Linear Regression"
   ]
  },
  {
   "cell_type": "code",
   "execution_count": 20,
   "metadata": {},
   "outputs": [
    {
     "data": {
      "image/png": "[encoded data removed]",
      "text/plain": [
       "<Figure size 432x288 with 1 Axes>"
      ]
     },
     "metadata": {
      "needs_background": "light"
     },
     "output_type": "display_data"
    },
    {
     "name": "stdout",
     "output_type": "stream",
     "text": [
      "The r value of this linear regression is: 0.33.\n"
     ]
    }
   ],
   "source": [
    "# Linear Regression: Northern Hemisphere- Humidity (%) VS. Latitude\n",
    "\n",
    "# Specifying which cities to work with by establishing the Northern Hemisphere\n",
    "northern_cities_df=clean_cities_df.loc[clean_cities_df['Latitude']>=0]\n",
    "\n",
    "latitude=northern_cities_df['Latitude'] # X Value\n",
    "humidity=northern_cities_df['Humidity'] # Y Value\n",
    "\n",
    "(slope, intercept, rvalue, pvalue, stderr) = linregress(latitude,humidity)\n",
    "\n",
    "regress_values = latitude * slope + intercept\n",
    "line_eq = \"y = \" + str(round(slope,2)) + \"x + \" + str(round(intercept,2))\n",
    "plt.plot(latitude,regress_values,\"r-\")\n",
    "plt.annotate(line_eq,(10,10),fontsize=20,color=\"red\")\n",
    "\n",
    "plt.scatter(latitude,humidity)\n",
    "plt.title('Northern Hemisphere: Humidity Percentage VS. Latitude')\n",
    "plt.ylabel('Humidity Percentage')\n",
    "plt.xlabel('Latitude')\n",
    "\n",
    "# Saving the graph in 'Images' folder in png format\n",
    "plt.savefig(\"../Images/north_humid_vs_latA.png\")\n",
    "\n",
    "plt.show()\n",
    "print(f'The r value of this linear regression is: {round(rvalue,2)}.')"
   ]
  },
  {
   "cell_type": "markdown",
   "metadata": {},
   "source": [
    "What this scatter plot with linear regression is showing us is the relation that Latitude and Humidity Percentage have with each other specifically in cities in the Northern Hemisphere.\n",
    "\n",
    "This is telling us the next: \n",
    "\n",
    "1. There is a direct correlation between the two variables, although not a strong one.\n",
    "2. With a latitude moving away from 0, results in having higher humidity percentages.\n",
    "3. With a lower latitude, results in having a more diverse division of humidity percentages between 0 and 100 percent.\n",
    "4. The r value is 0.33, meaning there is a correlation between the two variables although not a strong one."
   ]
  },
  {
   "cell_type": "markdown",
   "metadata": {},
   "source": [
    "####  Southern Hemisphere - Humidity (%) vs. Latitude Linear Regression"
   ]
  },
  {
   "cell_type": "code",
   "execution_count": 21,
   "metadata": {},
   "outputs": [
    {
     "data": {
      "image/png": "[encoded data removed]",
      "text/plain": [
       "<Figure size 432x288 with 1 Axes>"
      ]
     },
     "metadata": {
      "needs_background": "light"
     },
     "output_type": "display_data"
    },
    {
     "name": "stdout",
     "output_type": "stream",
     "text": [
      "The r value of this linear regression is: 0.38.\n"
     ]
    }
   ],
   "source": [
    "# Linear Regression: Southern Hemisphere- Humidity (%) VS. Latitude\n",
    "\n",
    "# Specifying which cities to work with by establishing the Southern Hemisphere\n",
    "southern_cities_df=clean_cities_df.loc[clean_cities_df['Latitude']<0]\n",
    "\n",
    "latitude=southern_cities_df['Latitude'] # X Value\n",
    "humidity=southern_cities_df['Humidity'] # Y Value\n",
    "\n",
    "(slope, intercept, rvalue, pvalue, stderr) = linregress(latitude,humidity)\n",
    "\n",
    "regress_values = latitude * slope + intercept\n",
    "line_eq = \"y = \" + str(round(slope,2)) + \"x + \" + str(round(intercept,2))\n",
    "plt.plot(latitude,regress_values,\"r-\")\n",
    "plt.annotate(line_eq,(-50,65),fontsize=20,color=\"red\")\n",
    "\n",
    "plt.scatter(latitude,humidity)\n",
    "plt.title('Southern Hemisphere: Humidity Percentage VS. Latitude')\n",
    "plt.ylabel('Humidity Percentage')\n",
    "plt.xlabel('Latitude')\n",
    "\n",
    "# Saving the graph in 'Images' folder in png format\n",
    "plt.savefig(\"../Images/south_humid_vs_latA.png\")\n",
    "\n",
    "plt.show()\n",
    "print(f'The r value of this linear regression is: {round(rvalue,2)}.')"
   ]
  },
  {
   "cell_type": "markdown",
   "metadata": {},
   "source": [
    "What this scatter plot with linear regression is showing us is the relation that Latitude and Humidity Percentage have with each other specifically in cities in the Southern Hemisphere.\n",
    "\n",
    "This is telling us the next: \n",
    "\n",
    "1. There is a direct correlation between the two variables, although a weak one with an r value of 0.38.\n",
    "2. With a latitude coming closer to 0, results in having higher humidity percentages.\n",
    "3. With a lower latitude, results in having almost no humidity in those cities. while coming closer to 0 in latitude means having high humidity percentages."
   ]
  },
  {
   "cell_type": "markdown",
   "metadata": {},
   "source": [
    "####  Northern Hemisphere - Cloudiness (%) vs. Latitude Linear Regression"
   ]
  },
  {
   "cell_type": "code",
   "execution_count": 22,
   "metadata": {},
   "outputs": [
    {
     "data": {
      "image/png": "[encoded data removed]",
      "text/plain": [
       "<Figure size 432x288 with 1 Axes>"
      ]
     },
     "metadata": {
      "needs_background": "light"
     },
     "output_type": "display_data"
    },
    {
     "name": "stdout",
     "output_type": "stream",
     "text": [
      "The r value of this linear regression is: 0.21.\n"
     ]
    }
   ],
   "source": [
    "# Linear Regression: Northern Hemisphere- Cloudiness (%) VS. Latitude\n",
    "\n",
    "# Specifying which cities to work with by establishing the Northern Hemisphere\n",
    "northern_cities_df=clean_cities_df.loc[clean_cities_df['Latitude']>=0]\n",
    "\n",
    "latitude=northern_cities_df['Latitude'] # X Value\n",
    "cloudiness=northern_cities_df['Cloudiness'] # Y Value\n",
    "\n",
    "(slope, intercept, rvalue, pvalue, stderr) = linregress(latitude,cloudiness)\n",
    "\n",
    "regress_values = latitude * slope + intercept\n",
    "line_eq = \"y = \" + str(round(slope,2)) + \"x + \" + str(round(intercept,2))\n",
    "plt.plot(latitude,regress_values,\"r-\")\n",
    "plt.annotate(line_eq,(10,10),fontsize=20,color=\"red\")\n",
    "\n",
    "plt.scatter(latitude,cloudiness)\n",
    "plt.title('Northern Hemisphere: Cloudiness Percentage VS. Latitude')\n",
    "plt.ylabel('Cloudiness Percentage')\n",
    "plt.xlabel('Latitude')\n",
    "\n",
    "# Saving the graph in 'Images' folder in png format\n",
    "plt.savefig(\"../Images/north_cloud_vs_latA.png\")\n",
    "\n",
    "plt.show()\n",
    "print(f'The r value of this linear regression is: {round(rvalue,2)}.')"
   ]
  },
  {
   "cell_type": "markdown",
   "metadata": {},
   "source": [
    "What this scatter plot with linear regression is showing us is the relation that Latitude and Cloudiness Percentage have with each other specifically in cities in the Northern Hemisphere.\n",
    "\n",
    "This is telling us the next: \n",
    "\n",
    "1. There is a direct correlation between the two variables, although a weak one with an r value of 0.21.\n",
    "2. With a latitude in the range 50 and 70, results in having higher cludiness percentages.\n",
    "3. With a latitude in the range of 10 and 50, results in having low cloudiness percentages."
   ]
  },
  {
   "cell_type": "markdown",
   "metadata": {},
   "source": [
    "####  Southern Hemisphere - Cloudiness (%) vs. Latitude Linear Regression"
   ]
  },
  {
   "cell_type": "code",
   "execution_count": 23,
   "metadata": {},
   "outputs": [
    {
     "data": {
      "image/png": "[encoded data removed]",
      "text/plain": [
       "<Figure size 432x288 with 1 Axes>"
      ]
     },
     "metadata": {
      "needs_background": "light"
     },
     "output_type": "display_data"
    },
    {
     "name": "stdout",
     "output_type": "stream",
     "text": [
      "The r value of this linear regression is: 0.26.\n"
     ]
    }
   ],
   "source": [
    "# Linear Regression: Southern Hemisphere- Cloudiness (%) VS. Latitude\n",
    "\n",
    "# Specifying which cities to work with by establishing the Southern Hemisphere\n",
    "southern_cities_df=clean_cities_df.loc[clean_cities_df['Latitude']<0]\n",
    "\n",
    "latitude=southern_cities_df['Latitude'] # X Value\n",
    "cloudiness=southern_cities_df['Cloudiness'] # Y Value\n",
    "\n",
    "(slope, intercept, rvalue, pvalue, stderr) = linregress(latitude,cloudiness)\n",
    "\n",
    "regress_values = latitude * slope + intercept\n",
    "line_eq = \"y = \" + str(round(slope,2)) + \"x + \" + str(round(intercept,2))\n",
    "plt.plot(latitude,regress_values,\"r-\")\n",
    "plt.annotate(line_eq,(-50,40),fontsize=20,color=\"red\")\n",
    "\n",
    "plt.scatter(latitude,cloudiness)\n",
    "plt.title('Southern Hemisphere: Cloudiness Percentage VS. Latitude')\n",
    "plt.ylabel('Cloudiness Percentage')\n",
    "plt.xlabel('Latitude')\n",
    "\n",
    "# Saving the graph in 'Images' folder in png format\n",
    "plt.savefig(\"../Images/south_cloud_vs_latA.png\")\n",
    "\n",
    "plt.show()\n",
    "print(f'The r value of this linear regression is: {round(rvalue,2)}.')"
   ]
  },
  {
   "cell_type": "markdown",
   "metadata": {},
   "source": [
    "What this scatter plot with linear regression is showing us is the relation that Latitude and Cloudiness Percentage have with each other specifically in cities in the Southern Hemisphere.\n",
    "\n",
    "This is telling us the next: \n",
    "\n",
    "1. There is a correlation between the two variables, although a very weak one (r = 0.26) to be able to make further analysis."
   ]
  },
  {
   "cell_type": "markdown",
   "metadata": {},
   "source": [
    "####  Northern Hemisphere - Wind Speed (mph) vs. Latitude Linear Regression"
   ]
  },
  {
   "cell_type": "code",
   "execution_count": 24,
   "metadata": {},
   "outputs": [
    {
     "data": {
      "image/png": "[encoded data removed]",
      "text/plain": [
       "<Figure size 432x288 with 1 Axes>"
      ]
     },
     "metadata": {
      "needs_background": "light"
     },
     "output_type": "display_data"
    },
    {
     "name": "stdout",
     "output_type": "stream",
     "text": [
      "The r value of this linear regression is: 0.26.\n"
     ]
    }
   ],
   "source": [
    "# Linear Regression: Northern Hemisphere- Wind Speed (mph) VS. Latitude\n",
    "\n",
    "# Specifying which cities to work with by establishing the Northern Hemisphere\n",
    "northern_cities_df=clean_cities_df.loc[clean_cities_df['Latitude']>=0]\n",
    "\n",
    "latitude=northern_cities_df['Latitude'] # X Value\n",
    "windspeed=northern_cities_df['Wind Speed'] # Y Value\n",
    "\n",
    "(slope, intercept, rvalue, pvalue, stderr) = linregress(latitude,windspeed)\n",
    "\n",
    "regress_values = latitude * slope + intercept\n",
    "line_eq = \"y = \" + str(round(slope,2)) + \"x + \" + str(round(intercept,2))\n",
    "plt.plot(latitude,regress_values,\"r-\")\n",
    "plt.annotate(line_eq,(10,10),fontsize=20,color=\"red\")\n",
    "\n",
    "plt.scatter(latitude,windspeed)\n",
    "plt.title(\"Northern Hemisphere: Wind Speed 'mph' VS. Latitude\")\n",
    "plt.ylabel(\"Wind Speed 'mph'\")\n",
    "plt.xlabel('Latitude')\n",
    "\n",
    "# Saving the graph in 'Images' folder in png format\n",
    "plt.savefig(\"../Images/north_wind_vs_latA.png\")\n",
    "\n",
    "plt.show()\n",
    "print(f'The r value of this linear regression is: {round(rvalue,2)}.')"
   ]
  },
  {
   "cell_type": "markdown",
   "metadata": {},
   "source": [
    "What this scatter plot with linear regression is showing us is the relation that Latitude and Wind Speed have with each other specifically in cities in the Northern Hemisphere.\n",
    "\n",
    "This is telling us the next: \n",
    "\n",
    "1. There is a correlation between the two variables, although a weak one with an r value of 0.26.\n",
    "2. Windspeed is in its majority equally distributed along all cities in the plot, despite having different altitudes."
   ]
  },
  {
   "cell_type": "markdown",
   "metadata": {},
   "source": [
    "####  Southern Hemisphere - Wind Speed (mph) vs. Latitude Linear Regression"
   ]
  },
  {
   "cell_type": "code",
   "execution_count": 25,
   "metadata": {},
   "outputs": [
    {
     "data": {
      "image/png": "[encoded data removed]",
      "text/plain": [
       "<Figure size 432x288 with 1 Axes>"
      ]
     },
     "metadata": {
      "needs_background": "light"
     },
     "output_type": "display_data"
    },
    {
     "name": "stdout",
     "output_type": "stream",
     "text": [
      "The r value of this linear regression is: -0.44.\n"
     ]
    }
   ],
   "source": [
    "# Linear Regression: Southern Hemisphere- Wind Speed (mph) VS. Latitude\n",
    "\n",
    "# Specifying which cities to work with by establishing the Southern Hemisphere\n",
    "southern_cities_df=clean_cities_df.loc[clean_cities_df['Latitude']<0]\n",
    "\n",
    "latitude=southern_cities_df['Latitude'] # X Value\n",
    "windspeed=southern_cities_df['Wind Speed'] # Y Value\n",
    "\n",
    "(slope, intercept, rvalue, pvalue, stderr) = linregress(latitude,windspeed)\n",
    "\n",
    "regress_values = latitude * slope + intercept\n",
    "line_eq = \"y = \" + str(round(slope,2)) + \"x + \" + str(round(intercept,2))\n",
    "plt.plot(latitude,regress_values,\"r-\")\n",
    "plt.annotate(line_eq,(-50,10),fontsize=20,color=\"red\")\n",
    "\n",
    "plt.scatter(latitude,windspeed)\n",
    "plt.title(\"Southern Hemisphere: Wind Speed 'mph' VS. Latitude\")\n",
    "plt.ylabel(\"Wind Speed 'mph'\")\n",
    "plt.xlabel('Latitude')\n",
    "\n",
    "# Saving the graph in 'Images' folder in png format\n",
    "plt.savefig(\"../Images/south_wind_vs_latA.png\")\n",
    "\n",
    "plt.show()\n",
    "print(f'The r value of this linear regression is: {round(rvalue,2)}.')"
   ]
  },
  {
   "cell_type": "markdown",
   "metadata": {},
   "source": [
    "What this scatter plot with linear regression is showing us is the relation that Latitude and Wind Speed have with each other specifically in cities in the Southern Hemisphere.\n",
    "\n",
    "This is telling us the next: \n",
    "\n",
    "1. There is a correlation between the two variables, although a weak one with an r value of -0.44.\n",
    "2. We can see that the windspeed is in its majority equally distributed but theres a trend that there are more cities grouped in the ranges between 0 and 10 MPH."
   ]
  },
  {
   "cell_type": "code",
   "execution_count": null,
   "metadata": {},
   "outputs": [],
   "source": []
  }
 ],
 "metadata": {
  "anaconda-cloud": {},
  "kernel_info": {
   "name": "python3"
  },
  "kernelspec": {
   "display_name": "Python 3",
   "language": "python",
   "name": "python3"
  },
  "language_info": {
   "codemirror_mode": {
    "name": "ipython",
    "version": 3
   },
   "file_extension": ".py",
   "mimetype": "text/x-python",
   "name": "python",
   "nbconvert_exporter": "python",
   "pygments_lexer": "ipython3",
   "version": "3.8.5"
  },
  "latex_envs": {
   "LaTeX_envs_menu_present": true,
   "autoclose": false,
   "autocomplete": true,
   "bibliofile": "biblio.bib",
   "cite_by": "apalike",
   "current_citInitial": 1,
   "eqLabelWithNumbers": true,
   "eqNumInitial": 1,
   "hotkeys": {
    "equation": "Ctrl-E",
    "itemize": "Ctrl-I"
   },
   "labels_anchors": false,
   "latex_user_defs": false,
   "report_style_numbering": false,
   "user_envs_cfg": false
  },
  "nteract": {
   "version": "0.12.3"
  }
 },
 "nbformat": 4,
 "nbformat_minor": 2
}
