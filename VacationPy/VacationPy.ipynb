{
 "cells": [
  {
   "cell_type": "markdown",
   "metadata": {},
   "source": [
    "# VacationPy\n",
    "----\n",
    "\n",
    "#### Note\n",
    "* Keep an eye on your API usage. Use https://developers.google.com/maps/reporting/gmp-reporting as reference for how to monitor your usage and billing.\n",
    "\n",
    "* Instructions have been included for each segment. You do not have to follow them exactly, but they are included to help you think through the steps."
   ]
  },
  {
   "cell_type": "code",
   "execution_count": 1,
   "metadata": {},
   "outputs": [],
   "source": [
    "# Dependencies and Setup\n",
    "import matplotlib.pyplot as plt\n",
    "import pandas as pd\n",
    "import numpy as np\n",
    "import requests\n",
    "import gmaps\n",
    "import os\n",
    "import json as json\n",
    "\n",
    "\n",
    "# Import API key\n",
    "from api_keys import g_key"
   ]
  },
  {
   "cell_type": "markdown",
   "metadata": {},
   "source": [
    "### Store Part I results into DataFrame\n",
    "* Load the csv exported in Part I to a DataFrame"
   ]
  },
  {
   "cell_type": "code",
   "execution_count": 2,
   "metadata": {
    "scrolled": true
   },
   "outputs": [
    {
     "data": {
      "text/html": [
       "<div>\n",
       "<style scoped>\n",
       "    .dataframe tbody tr th:only-of-type {\n",
       "        vertical-align: middle;\n",
       "    }\n",
       "\n",
       "    .dataframe tbody tr th {\n",
       "        vertical-align: top;\n",
       "    }\n",
       "\n",
       "    .dataframe thead th {\n",
       "        text-align: right;\n",
       "    }\n",
       "</style>\n",
       "<table border=\"1\" class=\"dataframe\">\n",
       "  <thead>\n",
       "    <tr style=\"text-align: right;\">\n",
       "      <th></th>\n",
       "      <th>City</th>\n",
       "      <th>Lat</th>\n",
       "      <th>Lng</th>\n",
       "      <th>Max Temp</th>\n",
       "      <th>Humidity</th>\n",
       "      <th>Cloudiness</th>\n",
       "      <th>Wind Speed</th>\n",
       "      <th>Country</th>\n",
       "      <th>Date</th>\n",
       "    </tr>\n",
       "  </thead>\n",
       "  <tbody>\n",
       "    <tr>\n",
       "      <th>0</th>\n",
       "      <td>turukhansk</td>\n",
       "      <td>65.8167</td>\n",
       "      <td>87.9833</td>\n",
       "      <td>-16.71</td>\n",
       "      <td>85</td>\n",
       "      <td>2</td>\n",
       "      <td>6.85</td>\n",
       "      <td>RU</td>\n",
       "      <td>1615434716</td>\n",
       "    </tr>\n",
       "    <tr>\n",
       "      <th>1</th>\n",
       "      <td>kodiak</td>\n",
       "      <td>57.7900</td>\n",
       "      <td>-152.4072</td>\n",
       "      <td>33.80</td>\n",
       "      <td>47</td>\n",
       "      <td>1</td>\n",
       "      <td>23.02</td>\n",
       "      <td>US</td>\n",
       "      <td>1615434716</td>\n",
       "    </tr>\n",
       "    <tr>\n",
       "      <th>2</th>\n",
       "      <td>yar-sale</td>\n",
       "      <td>66.8333</td>\n",
       "      <td>70.8333</td>\n",
       "      <td>-28.25</td>\n",
       "      <td>83</td>\n",
       "      <td>0</td>\n",
       "      <td>6.98</td>\n",
       "      <td>RU</td>\n",
       "      <td>1615434717</td>\n",
       "    </tr>\n",
       "    <tr>\n",
       "      <th>3</th>\n",
       "      <td>ginda</td>\n",
       "      <td>30.6945</td>\n",
       "      <td>78.4932</td>\n",
       "      <td>68.00</td>\n",
       "      <td>56</td>\n",
       "      <td>0</td>\n",
       "      <td>3.44</td>\n",
       "      <td>IN</td>\n",
       "      <td>1615434717</td>\n",
       "    </tr>\n",
       "    <tr>\n",
       "      <th>4</th>\n",
       "      <td>mount isa</td>\n",
       "      <td>-20.7333</td>\n",
       "      <td>139.5000</td>\n",
       "      <td>89.60</td>\n",
       "      <td>45</td>\n",
       "      <td>75</td>\n",
       "      <td>6.91</td>\n",
       "      <td>AU</td>\n",
       "      <td>1615434717</td>\n",
       "    </tr>\n",
       "  </tbody>\n",
       "</table>\n",
       "</div>"
      ],
      "text/plain": [
       "         City      Lat       Lng  Max Temp  Humidity  Cloudiness  Wind Speed  \\\n",
       "0  turukhansk  65.8167   87.9833    -16.71        85           2        6.85   \n",
       "1      kodiak  57.7900 -152.4072     33.80        47           1       23.02   \n",
       "2    yar-sale  66.8333   70.8333    -28.25        83           0        6.98   \n",
       "3       ginda  30.6945   78.4932     68.00        56           0        3.44   \n",
       "4   mount isa -20.7333  139.5000     89.60        45          75        6.91   \n",
       "\n",
       "  Country        Date  \n",
       "0      RU  1615434716  \n",
       "1      US  1615434716  \n",
       "2      RU  1615434717  \n",
       "3      IN  1615434717  \n",
       "4      AU  1615434717  "
      ]
     },
     "execution_count": 2,
     "metadata": {},
     "output_type": "execute_result"
    }
   ],
   "source": [
    "# Loading Output CSV \n",
    "\n",
    "file_one=\"../Output/all_cities_df.csv\"\n",
    "file_df=pd.read_csv(file_one)\n",
    "file_df.head()"
   ]
  },
  {
   "cell_type": "markdown",
   "metadata": {},
   "source": [
    "### Humidity Heatmap\n",
    "* Configure gmaps.\n",
    "* Use the Lat and Lng as locations and Humidity as the weight.\n",
    "* Add Heatmap layer to map."
   ]
  },
  {
   "cell_type": "code",
   "execution_count": 3,
   "metadata": {},
   "outputs": [],
   "source": [
    "# Configuring Google Maps\n",
    "\n",
    "gmaps.configure(api_key=g_key)"
   ]
  },
  {
   "cell_type": "code",
   "execution_count": 4,
   "metadata": {},
   "outputs": [],
   "source": [
    "# Storing variables:\n",
    "\n",
    "locations=file_df[['Lat','Lng']] # Latitude and Longitude as 'Locations'\n",
    "weight=file_df['Humidity'].astype(float) # Humidity as 'Weight'"
   ]
  },
  {
   "cell_type": "code",
   "execution_count": 5,
   "metadata": {
    "scrolled": true
   },
   "outputs": [
    {
     "data": {
      "application/vnd.jupyter.widget-view+json": {
       "model_id": "a45fe4bce83d4254aee2d016e07d107e",
       "version_major": 2,
       "version_minor": 0
      },
      "text/plain": [
       "Figure(layout=FigureLayout(height='420px'))"
      ]
     },
     "metadata": {},
     "output_type": "display_data"
    }
   ],
   "source": [
    "# Plotting a Heatmap: Humidity \n",
    "\n",
    "# Plot\n",
    "fig=gmaps.figure() \n",
    "\n",
    "# Creating a heatmap layer\n",
    "heat_layer = gmaps.heatmap_layer(locations, weights=weight,  \n",
    "                                 dissipating=False, max_intensity=300,\n",
    "                                 point_radius=3)\n",
    "\n",
    "# Adding the heatmap layer\n",
    "fig.add_layer(heat_layer)\n",
    "\n",
    "# Displaying the plot\n",
    "fig"
   ]
  },
  {
   "cell_type": "markdown",
   "metadata": {},
   "source": [
    "### Create new DataFrame fitting weather criteria\n",
    "* Narrow down the cities to fit weather conditions.\n",
    "* Drop any rows will null values."
   ]
  },
  {
   "cell_type": "code",
   "execution_count": 6,
   "metadata": {},
   "outputs": [
    {
     "name": "stdout",
     "output_type": "stream",
     "text": [
      "What is the minimum temperature you'd like to have for your trip (in fahrenheit)? 1\n",
      "What is the maximum temperature you'd like to have for your trip (in Fahrenheit)? 50\n",
      "What is the maximum humidity you'd like to have for your trip? 50\n",
      "What is the maximum cloudiness you'd like to have for your trip? 28\n"
     ]
    }
   ],
   "source": [
    "# Questionary for the client:\n",
    "\n",
    "# Asking the traveller for the desired temperature to have in the city to visit: min_temp\n",
    "min_temp=float(input(\"What is the minimum temperature you'd like to have for your trip (in fahrenheit)? \"))\n",
    "\n",
    "# Asking the traveller for the desired temperature to have in the city to visit: max_temp\n",
    "max_temp=float(input(\"What is the maximum temperature you'd like to have for your trip (in Fahrenheit)? \"))\n",
    "\n",
    "# Asking the traveller for the desired humidity to have in the city to visit: max_hum\n",
    "max_hum=float(input(\"What is the maximum humidity you'd like to have for your trip? \"))\n",
    "\n",
    "# Asking the traveller for the desired cloudiness to have in the city to visit: max_cloud\n",
    "max_cloud=float(input(\"What is the maximum cloudiness you'd like to have for your trip? \"))\n"
   ]
  },
  {
   "cell_type": "code",
   "execution_count": 7,
   "metadata": {
    "scrolled": true
   },
   "outputs": [
    {
     "name": "stdout",
     "output_type": "stream",
     "text": [
      "There are 8 cities around the world that match the required specifications for the clients' needs.\n"
     ]
    },
    {
     "data": {
      "text/html": [
       "<div>\n",
       "<style scoped>\n",
       "    .dataframe tbody tr th:only-of-type {\n",
       "        vertical-align: middle;\n",
       "    }\n",
       "\n",
       "    .dataframe tbody tr th {\n",
       "        vertical-align: top;\n",
       "    }\n",
       "\n",
       "    .dataframe thead th {\n",
       "        text-align: right;\n",
       "    }\n",
       "</style>\n",
       "<table border=\"1\" class=\"dataframe\">\n",
       "  <thead>\n",
       "    <tr style=\"text-align: right;\">\n",
       "      <th></th>\n",
       "      <th>City</th>\n",
       "      <th>Lat</th>\n",
       "      <th>Lng</th>\n",
       "      <th>Max Temp</th>\n",
       "      <th>Humidity</th>\n",
       "      <th>Cloudiness</th>\n",
       "      <th>Wind Speed</th>\n",
       "      <th>Country</th>\n",
       "      <th>Date</th>\n",
       "    </tr>\n",
       "  </thead>\n",
       "  <tbody>\n",
       "    <tr>\n",
       "      <th>1</th>\n",
       "      <td>kodiak</td>\n",
       "      <td>57.7900</td>\n",
       "      <td>-152.4072</td>\n",
       "      <td>33.8</td>\n",
       "      <td>47</td>\n",
       "      <td>1</td>\n",
       "      <td>23.02</td>\n",
       "      <td>US</td>\n",
       "      <td>1615434716</td>\n",
       "    </tr>\n",
       "    <tr>\n",
       "      <th>10</th>\n",
       "      <td>chase</td>\n",
       "      <td>50.8165</td>\n",
       "      <td>-119.6857</td>\n",
       "      <td>39.2</td>\n",
       "      <td>35</td>\n",
       "      <td>0</td>\n",
       "      <td>9.22</td>\n",
       "      <td>CA</td>\n",
       "      <td>1615434719</td>\n",
       "    </tr>\n",
       "    <tr>\n",
       "      <th>47</th>\n",
       "      <td>prince george</td>\n",
       "      <td>53.9166</td>\n",
       "      <td>-122.7530</td>\n",
       "      <td>23.0</td>\n",
       "      <td>39</td>\n",
       "      <td>1</td>\n",
       "      <td>3.44</td>\n",
       "      <td>CA</td>\n",
       "      <td>1615434732</td>\n",
       "    </tr>\n",
       "  </tbody>\n",
       "</table>\n",
       "</div>"
      ],
      "text/plain": [
       "             City      Lat       Lng  Max Temp  Humidity  Cloudiness  \\\n",
       "1          kodiak  57.7900 -152.4072      33.8        47           1   \n",
       "10          chase  50.8165 -119.6857      39.2        35           0   \n",
       "47  prince george  53.9166 -122.7530      23.0        39           1   \n",
       "\n",
       "    Wind Speed Country        Date  \n",
       "1        23.02      US  1615434716  \n",
       "10        9.22      CA  1615434719  \n",
       "47        3.44      CA  1615434732  "
      ]
     },
     "execution_count": 7,
     "metadata": {},
     "output_type": "execute_result"
    }
   ],
   "source": [
    "# Passing the clients answers to variables to get all cities that match those requirements\n",
    "\n",
    "cities_choice = file_df.loc[(file_df[\"Max Temp\"] >= min_temp) & (file_df[\"Max Temp\"] <= max_temp) & \\\n",
    "                            (file_df[\"Humidity\"] <= max_hum) & (file_df[\"Cloudiness\"] <= max_cloud)]\n",
    "\n",
    "                            \n",
    "print(f\"There are {len(cities_choice)} cities around the world that match the required specifications for the clients' needs.\")\n",
    "cities_choice.head(3)"
   ]
  },
  {
   "cell_type": "markdown",
   "metadata": {},
   "source": [
    "### Hotel Map\n",
    "* Store into variable named `hotel_df`.\n",
    "* Add a \"Hotel Name\" column to the DataFrame.\n",
    "* Set parameters to search for hotels with 5000 meters.\n",
    "* Hit the Google Places API for each city's coordinates.\n",
    "* Store the first Hotel result into the DataFrame.\n",
    "* Plot markers on top of the heatmap."
   ]
  },
  {
   "cell_type": "code",
   "execution_count": 8,
   "metadata": {},
   "outputs": [
    {
     "name": "stderr",
     "output_type": "stream",
     "text": [
      "<ipython-input-8-2699521ae2ad>:3: SettingWithCopyWarning: \n",
      "A value is trying to be set on a copy of a slice from a DataFrame.\n",
      "Try using .loc[row_indexer,col_indexer] = value instead\n",
      "\n",
      "See the caveats in the documentation: https://pandas.pydata.org/pandas-docs/stable/user_guide/indexing.html#returning-a-view-versus-a-copy\n",
      "  cities_choice['Hotel Name'] = \"\"\n",
      "<ipython-input-8-2699521ae2ad>:4: SettingWithCopyWarning: \n",
      "A value is trying to be set on a copy of a slice from a DataFrame.\n",
      "Try using .loc[row_indexer,col_indexer] = value instead\n",
      "\n",
      "See the caveats in the documentation: https://pandas.pydata.org/pandas-docs/stable/user_guide/indexing.html#returning-a-view-versus-a-copy\n",
      "  cities_choice['Hotel Rating'] = \"\"\n"
     ]
    },
    {
     "data": {
      "text/html": [
       "<div>\n",
       "<style scoped>\n",
       "    .dataframe tbody tr th:only-of-type {\n",
       "        vertical-align: middle;\n",
       "    }\n",
       "\n",
       "    .dataframe tbody tr th {\n",
       "        vertical-align: top;\n",
       "    }\n",
       "\n",
       "    .dataframe thead th {\n",
       "        text-align: right;\n",
       "    }\n",
       "</style>\n",
       "<table border=\"1\" class=\"dataframe\">\n",
       "  <thead>\n",
       "    <tr style=\"text-align: right;\">\n",
       "      <th></th>\n",
       "      <th>City</th>\n",
       "      <th>Lat</th>\n",
       "      <th>Lng</th>\n",
       "      <th>Max Temp</th>\n",
       "      <th>Humidity</th>\n",
       "      <th>Cloudiness</th>\n",
       "      <th>Wind Speed</th>\n",
       "      <th>Country</th>\n",
       "      <th>Date</th>\n",
       "      <th>Hotel Name</th>\n",
       "      <th>Hotel Rating</th>\n",
       "    </tr>\n",
       "  </thead>\n",
       "  <tbody>\n",
       "    <tr>\n",
       "      <th>1</th>\n",
       "      <td>kodiak</td>\n",
       "      <td>57.7900</td>\n",
       "      <td>-152.4072</td>\n",
       "      <td>33.8</td>\n",
       "      <td>47</td>\n",
       "      <td>1</td>\n",
       "      <td>23.02</td>\n",
       "      <td>US</td>\n",
       "      <td>1615434716</td>\n",
       "      <td></td>\n",
       "      <td></td>\n",
       "    </tr>\n",
       "    <tr>\n",
       "      <th>10</th>\n",
       "      <td>chase</td>\n",
       "      <td>50.8165</td>\n",
       "      <td>-119.6857</td>\n",
       "      <td>39.2</td>\n",
       "      <td>35</td>\n",
       "      <td>0</td>\n",
       "      <td>9.22</td>\n",
       "      <td>CA</td>\n",
       "      <td>1615434719</td>\n",
       "      <td></td>\n",
       "      <td></td>\n",
       "    </tr>\n",
       "    <tr>\n",
       "      <th>47</th>\n",
       "      <td>prince george</td>\n",
       "      <td>53.9166</td>\n",
       "      <td>-122.7530</td>\n",
       "      <td>23.0</td>\n",
       "      <td>39</td>\n",
       "      <td>1</td>\n",
       "      <td>3.44</td>\n",
       "      <td>CA</td>\n",
       "      <td>1615434732</td>\n",
       "      <td></td>\n",
       "      <td></td>\n",
       "    </tr>\n",
       "  </tbody>\n",
       "</table>\n",
       "</div>"
      ],
      "text/plain": [
       "             City      Lat       Lng  Max Temp  Humidity  Cloudiness  \\\n",
       "1          kodiak  57.7900 -152.4072      33.8        47           1   \n",
       "10          chase  50.8165 -119.6857      39.2        35           0   \n",
       "47  prince george  53.9166 -122.7530      23.0        39           1   \n",
       "\n",
       "    Wind Speed Country        Date Hotel Name Hotel Rating  \n",
       "1        23.02      US  1615434716                          \n",
       "10        9.22      CA  1615434719                          \n",
       "47        3.44      CA  1615434732                          "
      ]
     },
     "execution_count": 8,
     "metadata": {},
     "output_type": "execute_result"
    }
   ],
   "source": [
    "# Adding a \"Hotel Name\" & \"Rating\" column to the DataFrame\n",
    "\n",
    "cities_choice['Hotel Name'] = \"\"\n",
    "cities_choice['Hotel Rating'] = \"\"\n",
    "cities_choice.head(3)"
   ]
  },
  {
   "cell_type": "code",
   "execution_count": 9,
   "metadata": {},
   "outputs": [
    {
     "name": "stdout",
     "output_type": "stream",
     "text": [
      "There are 8 cities to choose from.\n"
     ]
    }
   ],
   "source": [
    "print(f\"There are {len(cities_choice)} cities to choose from.\")"
   ]
  },
  {
   "cell_type": "code",
   "execution_count": 10,
   "metadata": {},
   "outputs": [
    {
     "name": "stderr",
     "output_type": "stream",
     "text": [
      "C:\\Users\\fernando\\anaconda3\\lib\\site-packages\\pandas\\core\\indexing.py:1765: SettingWithCopyWarning: \n",
      "A value is trying to be set on a copy of a slice from a DataFrame.\n",
      "Try using .loc[row_indexer,col_indexer] = value instead\n",
      "\n",
      "See the caveats in the documentation: https://pandas.pydata.org/pandas-docs/stable/user_guide/indexing.html#returning-a-view-versus-a-copy\n",
      "  isetter(loc, value)\n"
     ]
    },
    {
     "name": "stdout",
     "output_type": "stream",
     "text": [
      "Missing field/result... skipping.\n",
      "{\n",
      "    \"html_attributions\": [],\n",
      "    \"results\": [],\n",
      "    \"status\": \"ZERO_RESULTS\"\n",
      "}\n"
     ]
    }
   ],
   "source": [
    "# For Loop to get the data into 'Hotel Name' and 'Hotel Rating' columns\n",
    "\n",
    "# Using the template add the hotel marks to the heatmap\n",
    "\n",
    "info_box_template = \"\"\"\n",
    "<dl>\n",
    "<dt>Name</dt><dd>{Hotel Name}</dd>\n",
    "<dt>City</dt><dd>{City}</dd>\n",
    "<dt>Country</dt><dd>{Country}</dd>\n",
    "</dl>\n",
    "\"\"\"\n",
    "\n",
    "# Base URL to work with\n",
    "base_url = \"https://maps.googleapis.com/maps/api/place/nearbysearch/json?\"\n",
    "\n",
    "# Setting variables\n",
    "hotel_info = [info_box_template.format(**row) for index, row in cities_choice.iterrows()]\n",
    "locations = cities_choice[[\"Lat\", \"Lng\"]].astype(float)\n",
    "\n",
    "\n",
    "# Setting parameters\n",
    "params={\n",
    "    \"radius\":5000,\n",
    "    \"type\": \"hotel\",\n",
    "    \"key\": g_key,\n",
    "}\n",
    "\n",
    "# Iterate through \n",
    "for index, row in cities_choice.iterrows():\n",
    "    # get lat, lng from df\n",
    "    lat = row[\"Lat\"]\n",
    "    lng = row[\"Lng\"]\n",
    "    \n",
    "    params[\"location\"] = f\"{lat},{lng}\"\n",
    "    \n",
    "    # Use the search term: \"Hotel\" and our lat/lng\n",
    "    base_url = \"https://maps.googleapis.com/maps/api/place/nearbysearch/json\"\n",
    "\n",
    "    # make request and print url\n",
    "    name_address = requests.get(base_url, params=params)\n",
    "    \n",
    "    # convert to json\n",
    "    name_address = name_address.json()\n",
    "    \n",
    "    # Grab the first hotel from the results and store the name\n",
    "    try:\n",
    "        cities_choice.loc[index, \"Hotel Name\"] = name_address[\"results\"][1][\"name\"]\n",
    "        cities_choice.loc[index, \"Hotel Rating\"] = name_address[\"results\"][1][\"rating\"]\n",
    "    except (KeyError, IndexError):\n",
    "        print(\"Missing field/result... skipping.\")\n",
    "        \n",
    "print(json.dumps(name_address, indent=4, sort_keys=True))"
   ]
  },
  {
   "cell_type": "code",
   "execution_count": 11,
   "metadata": {},
   "outputs": [
    {
     "data": {
      "text/html": [
       "<div>\n",
       "<style scoped>\n",
       "    .dataframe tbody tr th:only-of-type {\n",
       "        vertical-align: middle;\n",
       "    }\n",
       "\n",
       "    .dataframe tbody tr th {\n",
       "        vertical-align: top;\n",
       "    }\n",
       "\n",
       "    .dataframe thead th {\n",
       "        text-align: right;\n",
       "    }\n",
       "</style>\n",
       "<table border=\"1\" class=\"dataframe\">\n",
       "  <thead>\n",
       "    <tr style=\"text-align: right;\">\n",
       "      <th></th>\n",
       "      <th>City</th>\n",
       "      <th>Lat</th>\n",
       "      <th>Lng</th>\n",
       "      <th>Max Temp</th>\n",
       "      <th>Humidity</th>\n",
       "      <th>Cloudiness</th>\n",
       "      <th>Wind Speed</th>\n",
       "      <th>Country</th>\n",
       "      <th>Date</th>\n",
       "      <th>Hotel Name</th>\n",
       "      <th>Hotel Rating</th>\n",
       "    </tr>\n",
       "  </thead>\n",
       "  <tbody>\n",
       "    <tr>\n",
       "      <th>1</th>\n",
       "      <td>kodiak</td>\n",
       "      <td>57.7900</td>\n",
       "      <td>-152.4072</td>\n",
       "      <td>33.8</td>\n",
       "      <td>47</td>\n",
       "      <td>1</td>\n",
       "      <td>23.02</td>\n",
       "      <td>US</td>\n",
       "      <td>1615434716</td>\n",
       "      <td>US Coast Guard</td>\n",
       "      <td>4.7</td>\n",
       "    </tr>\n",
       "    <tr>\n",
       "      <th>10</th>\n",
       "      <td>chase</td>\n",
       "      <td>50.8165</td>\n",
       "      <td>-119.6857</td>\n",
       "      <td>39.2</td>\n",
       "      <td>35</td>\n",
       "      <td>0</td>\n",
       "      <td>9.22</td>\n",
       "      <td>CA</td>\n",
       "      <td>1615434719</td>\n",
       "      <td>Fas Gas Plus</td>\n",
       "      <td>4</td>\n",
       "    </tr>\n",
       "    <tr>\n",
       "      <th>47</th>\n",
       "      <td>prince george</td>\n",
       "      <td>53.9166</td>\n",
       "      <td>-122.7530</td>\n",
       "      <td>23.0</td>\n",
       "      <td>39</td>\n",
       "      <td>1</td>\n",
       "      <td>3.44</td>\n",
       "      <td>CA</td>\n",
       "      <td>1615434732</td>\n",
       "      <td>Canadas Best Value Inn Prince George</td>\n",
       "      <td>3.9</td>\n",
       "    </tr>\n",
       "  </tbody>\n",
       "</table>\n",
       "</div>"
      ],
      "text/plain": [
       "             City      Lat       Lng  Max Temp  Humidity  Cloudiness  \\\n",
       "1          kodiak  57.7900 -152.4072      33.8        47           1   \n",
       "10          chase  50.8165 -119.6857      39.2        35           0   \n",
       "47  prince george  53.9166 -122.7530      23.0        39           1   \n",
       "\n",
       "    Wind Speed Country        Date                            Hotel Name  \\\n",
       "1        23.02      US  1615434716                        US Coast Guard   \n",
       "10        9.22      CA  1615434719                          Fas Gas Plus   \n",
       "47        3.44      CA  1615434732  Canadas Best Value Inn Prince George   \n",
       "\n",
       "   Hotel Rating  \n",
       "1           4.7  \n",
       "10            4  \n",
       "47          3.9  "
      ]
     },
     "execution_count": 11,
     "metadata": {},
     "output_type": "execute_result"
    }
   ],
   "source": [
    "# Printing out the table with the results in columns 'Hotel Name' & 'Hotel Rating'\n",
    "\n",
    "cities_choice.head(3)"
   ]
  },
  {
   "cell_type": "code",
   "execution_count": 12,
   "metadata": {},
   "outputs": [
    {
     "data": {
      "text/html": [
       "<div>\n",
       "<style scoped>\n",
       "    .dataframe tbody tr th:only-of-type {\n",
       "        vertical-align: middle;\n",
       "    }\n",
       "\n",
       "    .dataframe tbody tr th {\n",
       "        vertical-align: top;\n",
       "    }\n",
       "\n",
       "    .dataframe thead th {\n",
       "        text-align: right;\n",
       "    }\n",
       "</style>\n",
       "<table border=\"1\" class=\"dataframe\">\n",
       "  <thead>\n",
       "    <tr style=\"text-align: right;\">\n",
       "      <th></th>\n",
       "      <th>City</th>\n",
       "      <th>Lat</th>\n",
       "      <th>Lng</th>\n",
       "      <th>Max Temp</th>\n",
       "      <th>Humidity</th>\n",
       "      <th>Cloudiness</th>\n",
       "      <th>Wind Speed</th>\n",
       "      <th>Country</th>\n",
       "      <th>Date</th>\n",
       "      <th>Hotel Name</th>\n",
       "      <th>Hotel Rating</th>\n",
       "    </tr>\n",
       "  </thead>\n",
       "  <tbody>\n",
       "    <tr>\n",
       "      <th>1</th>\n",
       "      <td>kodiak</td>\n",
       "      <td>57.7900</td>\n",
       "      <td>-152.4072</td>\n",
       "      <td>33.8</td>\n",
       "      <td>47</td>\n",
       "      <td>1</td>\n",
       "      <td>23.02</td>\n",
       "      <td>US</td>\n",
       "      <td>1615434716</td>\n",
       "      <td>US Coast Guard</td>\n",
       "      <td>4.7</td>\n",
       "    </tr>\n",
       "    <tr>\n",
       "      <th>10</th>\n",
       "      <td>chase</td>\n",
       "      <td>50.8165</td>\n",
       "      <td>-119.6857</td>\n",
       "      <td>39.2</td>\n",
       "      <td>35</td>\n",
       "      <td>0</td>\n",
       "      <td>9.22</td>\n",
       "      <td>CA</td>\n",
       "      <td>1615434719</td>\n",
       "      <td>Fas Gas Plus</td>\n",
       "      <td>4</td>\n",
       "    </tr>\n",
       "    <tr>\n",
       "      <th>47</th>\n",
       "      <td>prince george</td>\n",
       "      <td>53.9166</td>\n",
       "      <td>-122.7530</td>\n",
       "      <td>23.0</td>\n",
       "      <td>39</td>\n",
       "      <td>1</td>\n",
       "      <td>3.44</td>\n",
       "      <td>CA</td>\n",
       "      <td>1615434732</td>\n",
       "      <td>Canadas Best Value Inn Prince George</td>\n",
       "      <td>3.9</td>\n",
       "    </tr>\n",
       "  </tbody>\n",
       "</table>\n",
       "</div>"
      ],
      "text/plain": [
       "             City      Lat       Lng  Max Temp  Humidity  Cloudiness  \\\n",
       "1          kodiak  57.7900 -152.4072      33.8        47           1   \n",
       "10          chase  50.8165 -119.6857      39.2        35           0   \n",
       "47  prince george  53.9166 -122.7530      23.0        39           1   \n",
       "\n",
       "    Wind Speed Country        Date                            Hotel Name  \\\n",
       "1        23.02      US  1615434716                        US Coast Guard   \n",
       "10        9.22      CA  1615434719                          Fas Gas Plus   \n",
       "47        3.44      CA  1615434732  Canadas Best Value Inn Prince George   \n",
       "\n",
       "   Hotel Rating  \n",
       "1           4.7  \n",
       "10            4  \n",
       "47          3.9  "
      ]
     },
     "execution_count": 12,
     "metadata": {},
     "output_type": "execute_result"
    }
   ],
   "source": [
    "# Passing the name of data frame to 'hotel_df'\n",
    "\n",
    "hotel_df=cities_choice\n",
    "hotel_df.head(3)"
   ]
  },
  {
   "cell_type": "code",
   "execution_count": 20,
   "metadata": {},
   "outputs": [
    {
     "data": {
      "application/vnd.jupyter.widget-view+json": {
       "model_id": "bbb927a1afb3455598a5ca00ccd1f5d5",
       "version_major": 2,
       "version_minor": 0
      },
      "text/plain": [
       "Figure(layout=FigureLayout(height='420px'))"
      ]
     },
     "metadata": {},
     "output_type": "display_data"
    }
   ],
   "source": [
    "# Ploting markers on top of the heatmap\n",
    "\n",
    "marker_locations = hotel_df[['Lat', 'Lng']]\n",
    "markers = gmaps.marker_layer(marker_locations, info_box_content=hotel_info)\n",
    "fig=gmaps.figure()\n",
    "fig.add_layer(markers)\n",
    "\n",
    "#fig.savefig(\"../Images/hoteldf_marker_heatmapA.png\", dpi=300, bbox_inches='tight')\n",
    "\n",
    "fig"
   ]
  },
  {
   "cell_type": "code",
   "execution_count": null,
   "metadata": {},
   "outputs": [],
   "source": []
  }
 ],
 "metadata": {
  "kernelspec": {
   "display_name": "Python 3",
   "language": "python",
   "name": "python3"
  },
  "language_info": {
   "codemirror_mode": {
    "name": "ipython",
    "version": 3
   },
   "file_extension": ".py",
   "mimetype": "text/x-python",
   "name": "python",
   "nbconvert_exporter": "python",
   "pygments_lexer": "ipython3",
   "version": "3.8.5"
  },
  "latex_envs": {
   "LaTeX_envs_menu_present": true,
   "autoclose": false,
   "autocomplete": true,
   "bibliofile": "biblio.bib",
   "cite_by": "apalike",
   "current_citInitial": 1,
   "eqLabelWithNumbers": true,
   "eqNumInitial": 1,
   "hotkeys": {
    "equation": "Ctrl-E",
    "itemize": "Ctrl-I"
   },
   "labels_anchors": false,
   "latex_user_defs": false,
   "report_style_numbering": false,
   "user_envs_cfg": false
  }
 },
 "nbformat": 4,
 "nbformat_minor": 4
}
